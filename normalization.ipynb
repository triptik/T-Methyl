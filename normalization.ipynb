{
 "cells": [
  {
   "cell_type": "code",
   "execution_count": 3,
   "metadata": {
    "collapsed": true
   },
   "outputs": [],
   "source": [
    "\n",
    "# The %... is an iPython thing, and is not part of the Python language.\n",
    "# In this case we're just telling the plotting library to draw things on\n",
    "# the notebook, instead of on a separate window.\n",
    "%matplotlib inline\n",
    "# See all the \"as ...\" contructs? They're just aliasing the package names.\n",
    "# That way we can call methods like plt.plot() instead of matplotlib.pyplot.plot().\n",
    "import numpy as np\n",
    "import scipy as sp\n",
    "import matplotlib as mpl\n",
    "import matplotlib.cm as cm\n",
    "import matplotlib.pyplot as plt\n",
    "import pandas as pd\n",
    "import time\n",
    "pd.set_option('display.width', 500)\n",
    "pd.set_option('display.max_columns', 100)\n",
    "pd.set_option('display.notebook_repr_html', True)\n",
    "import seaborn as sns\n",
    "sns.set_style(\"whitegrid\")\n",
    "sns.set_context(\"poster\")\n",
    "import urllib2\n",
    "import re\n",
    "from subprocess import PIPE, Popen\n",
    "import os\n",
    "import glob"
   ]
  },
  {
   "cell_type": "code",
   "execution_count": 28,
   "metadata": {
    "collapsed": false
   },
   "outputs": [],
   "source": [
    "normfailed=[]\n",
    "def normalize_datasets(file1):\n",
    "        outputpath = 'data/geo-normalized/'\n",
    "        probeannotfile = 'probeAnnotation21kdatMethUsed.csv'\n",
    "        #create output file name for betavalues\n",
    "        path,filename = os.path.split(file1)\n",
    "        filename, ext = os.path.splitext(filename)\n",
    "        filename, ext = os.path.splitext(filename)\n",
    "        outfile = outputpath + \"/\" + filename +\"norm.csv\"\n",
    "        norm_cmd = \"Rscript --vanilla Normalization.R \" + file1 + \" \" + probeannotfile + \" \" + outfile\n",
    "        print norm_cmd\n",
    "        pnorm = Popen(norm_cmd,stdout=PIPE,stderr=PIPE,shell=True,close_fds=True)\n",
    "        std_out, std_err = pnorm.communicate()\n",
    "        exit_code = pnorm.returncode\n",
    "        if exit_code:\n",
    "            print \"normalization error\", file1\n",
    "            normfailed.append(i)\n",
    "        return normfailed        "
   ]
  },
  {
   "cell_type": "code",
   "execution_count": 29,
   "metadata": {
    "collapsed": false
   },
   "outputs": [
    {
     "name": "stdout",
     "output_type": "stream",
     "text": [
      "Rscript --vanilla Normalization.R paper_material/tutorial/MethylationDataExample55.csv probeAnnotation21kdatMethUsed.csv data/geo-normalized//MethylationDataExample55norm.csv\n"
     ]
    }
   ],
   "source": [
    "'''filearr= glob.glob('data/geo-betasignals/'+'*.csv')\n",
    "for file1 in filearr:\n",
    "        normalize_datasets(file1)'''\n",
    "file1= 'paper_material/tutorial/MethylationDataExample55.csv'\n",
    "failnorm = normalize_datasets(file1)"
   ]
  },
  {
   "cell_type": "code",
   "execution_count": null,
   "metadata": {
    "collapsed": true
   },
   "outputs": [],
   "source": []
  }
 ],
 "metadata": {
  "kernelspec": {
   "display_name": "Python 2",
   "language": "python",
   "name": "python2"
  },
  "language_info": {
   "codemirror_mode": {
    "name": "ipython",
    "version": 2
   },
   "file_extension": ".py",
   "mimetype": "text/x-python",
   "name": "python",
   "nbconvert_exporter": "python",
   "pygments_lexer": "ipython2",
   "version": "2.7.10"
  }
 },
 "nbformat": 4,
 "nbformat_minor": 0
}
