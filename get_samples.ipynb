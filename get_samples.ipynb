{
 "cells": [
  {
   "cell_type": "code",
   "execution_count": 1,
   "metadata": {
    "collapsed": true
   },
   "outputs": [],
   "source": [
    "import urllib \n"
   ]
  },
  {
   "cell_type": "code",
   "execution_count": 24,
   "metadata": {
    "collapsed": false
   },
   "outputs": [
    {
     "data": {
      "text/plain": [
       "60"
      ]
     },
     "execution_count": 24,
     "metadata": {},
     "output_type": "execute_result"
    }
   ],
   "source": [
    "sample_list = \"GSE15745,GSE17448,GSE19711,GSE19711,GSE20067,GSE20236,GSE20242,GSE20242,GSE22595,GSE25892,GSE26033,GSE26033   ,GSE26126,GSE26974   ,GSE27097,GSE27317,GSE28746,GSE30090,GSE30456,GSE30601,GSE30653,GSE30758,GSE30870,GSE31848,GSE32146,GSE32149,GSE32393,GSE34035,GSE34035,GSE34257,GSE34639,GSE35069,GSE36064,GSE36166,GSE36642,GSE36642,GSE36642,GSE36812,GSE37008,GSE37066,GSE37988,GSE38291,GSE38291,GSE38608,GSE38608,GSE38873,GSE40279,GSE40700,GSE41037,GSE41169,GSE41782,GSE41826,GSE42510,GSE42700,GSE42700,GSE42861,GSE42865,\\\n",
    "GSE43269,GSE44667,GSE47627\"\n",
    "sample_arr = sample_list.split(\",\")\n",
    "len(sample_arr)"
   ]
  },
  {
   "cell_type": "code",
   "execution_count": 25,
   "metadata": {
    "collapsed": false
   },
   "outputs": [],
   "source": [
    "#ftp://ftp.ncbi.nlm.nih.gov/geo/series/GSE40nnn/GSE40700/matrix/GSE40700_series_matrix.txt.gz\n",
    "for i in sample_arr:\n",
    "    key_num = i.split(\"GSE\")[1]\n",
    "    url_key= \"GSE\"+key_num[0:2]\n",
    "    file_n = i + \"_series_matrix.txt.gz\"\n",
    "    ftp= \"ftp://ftp.ncbi.nlm.nih.gov/geo/series/\"+url_key.replace(\" \",\"\")+ \"/matrix/\" + file_n\n"
   ]
  },
  {
   "cell_type": "code",
   "execution_count": null,
   "metadata": {
    "collapsed": false
   },
   "outputs": [],
   "source": []
  },
  {
   "cell_type": "code",
   "execution_count": null,
   "metadata": {
    "collapsed": true
   },
   "outputs": [],
   "source": []
  }
 ],
 "metadata": {
  "kernelspec": {
   "display_name": "Python 2",
   "language": "python",
   "name": "python2"
  },
  "language_info": {
   "codemirror_mode": {
    "name": "ipython",
    "version": 2
   },
   "file_extension": ".py",
   "mimetype": "text/x-python",
   "name": "python",
   "nbconvert_exporter": "python",
   "pygments_lexer": "ipython2",
   "version": "2.7.10"
  }
 },
 "nbformat": 4,
 "nbformat_minor": 0
}
