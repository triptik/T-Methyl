{
 "cells": [
  {
   "cell_type": "code",
   "execution_count": 56,
   "metadata": {
    "collapsed": true
   },
   "outputs": [],
   "source": [
    "%matplotlib inline\n",
    "import numpy as np\n",
    "import scipy as sp\n",
    "import matplotlib as mpl\n",
    "import matplotlib.cm as cm\n",
    "import matplotlib.pyplot as plt\n",
    "import pandas as pd\n",
    "import time\n",
    "pd.set_option('display.width', 500)\n",
    "pd.set_option('display.max_columns', 100)\n",
    "pd.set_option('display.notebook_repr_html', True)\n",
    "import seaborn as sns\n",
    "sns.set_style(\"whitegrid\")\n",
    "sns.set_context(\"poster\")\n",
    "import urllib2\n",
    "import re\n",
    "from subprocess import PIPE, Popen\n",
    "import os\n",
    "import glob\n",
    "import re\n",
    "import math"
   ]
  },
  {
   "cell_type": "code",
   "execution_count": 57,
   "metadata": {
    "collapsed": false
   },
   "outputs": [
    {
     "data": {
      "text/plain": [
       "['data/geo-preprocessed/GSE20067_series_matrix_final.csv',\n",
       " 'data/geo-preprocessed/GSE17448_series_matrix_final.csv']"
      ]
     },
     "execution_count": 57,
     "metadata": {},
     "output_type": "execute_result"
    }
   ],
   "source": [
    "processArray = glob.glob('data/geo-preprocessed/'+'*.csv')\n",
    "processArray"
   ]
  },
  {
   "cell_type": "code",
   "execution_count": 58,
   "metadata": {
    "collapsed": false
   },
   "outputs": [],
   "source": [
    "#Creating one large dataframe from all of the normalized data\n",
    "for dfInd in range(0, len(processArray)):\n",
    "    df = pd.read_csv(processArray[dfInd])\n",
    "    if (dfInd == 0):\n",
    "        preprocFull = df\n",
    "    else:\n",
    "        preprocFull = preprocFull.append(df)"
   ]
  },
  {
   "cell_type": "code",
   "execution_count": 59,
   "metadata": {
    "collapsed": false
   },
   "outputs": [
    {
     "data": {
      "text/plain": [
       "((211,), 147)"
      ]
     },
     "execution_count": 59,
     "metadata": {},
     "output_type": "execute_result"
    }
   ],
   "source": [
    "from sklearn.cross_validation import train_test_split\n",
    "itrain, itest = train_test_split(xrange(preprocFull.shape[0]), train_size=0.7)\n",
    "mask=np.ones(preprocFull.shape[0], dtype='int')\n",
    "mask[itrain]=1\n",
    "mask[itest]=0\n",
    "mask = (mask==1)\n",
    "mask.shape, mask.sum()"
   ]
  },
  {
   "cell_type": "code",
   "execution_count": 60,
   "metadata": {
    "collapsed": false
   },
   "outputs": [],
   "source": [
    "#Setting up the x and y matrices. metColumns contains the column names for the variables we want to include\n",
    "#in our regression. Right now it only contains the CpG sites, because the gender is not available for all \n",
    "#datasets. You can add variables by appending the column name into metColumns\n",
    "metColumns = preprocFull.columns[[re.match('cg0', col) != None for col in preprocFull.columns]]\n",
    "metDFx = preprocFull[metColumns]\n",
    "metDFy = pd.DataFrame(preprocFull['age'])"
   ]
  },
  {
   "cell_type": "code",
   "execution_count": 61,
   "metadata": {
    "collapsed": false
   },
   "outputs": [],
   "source": [
    "def replaceNan(column):\n",
    "    columnFix = column.fillna(column.mean())\n",
    "    return columnFix\n",
    "metDFx = metDFx.apply(replaceNan)\n",
    "metDFy = metDFy.apply(replaceNan)['age']"
   ]
  },
  {
   "cell_type": "code",
   "execution_count": 62,
   "metadata": {
    "collapsed": false
   },
   "outputs": [],
   "source": [
    "Xmatrix_train=metDFx[mask]\n",
    "Xmatrix_test=metDFx[~mask]\n",
    "Yresp_train=metDFy[mask]\n",
    "Yresp_test=metDFy[~mask]"
   ]
  },
  {
   "cell_type": "code",
   "execution_count": 63,
   "metadata": {
    "collapsed": false
   },
   "outputs": [],
   "source": [
    "from sklearn import linear_model\n",
    "from sklearn.linear_model import LassoCV\n",
    "regModel = LassoCV(cv=5, max_iter=10000).fit(Xmatrix_train, Yresp_train)"
   ]
  },
  {
   "cell_type": "code",
   "execution_count": 64,
   "metadata": {
    "collapsed": false
   },
   "outputs": [
    {
     "data": {
      "text/plain": [
       "0.0058332615074359233"
      ]
     },
     "execution_count": 64,
     "metadata": {},
     "output_type": "execute_result"
    }
   ],
   "source": [
    "regModel.alpha_"
   ]
  },
  {
   "cell_type": "code",
   "execution_count": 71,
   "metadata": {
    "collapsed": false
   },
   "outputs": [
    {
     "data": {
      "text/plain": [
       "<matplotlib.collections.PathCollection at 0x7f2c65a3b090>"
      ]
     },
     "execution_count": 71,
     "metadata": {},
     "output_type": "execute_result"
    },
    {
     "data": {
      "image/png": "[encoded data removed]",
      "text/plain": [
       "<matplotlib.figure.Figure at 0x7f2c66a7e250>"
      ]
     },
     "metadata": {},
     "output_type": "display_data"
    }
   ],
   "source": [
    "agePredictions = regModel.predict(Xmatrix_test)\n",
    "plt.scatter(Yresp_test.values, agePredictions)"
   ]
  }
 ],
 "metadata": {
  "kernelspec": {
   "display_name": "Python 2",
   "language": "python",
   "name": "python2"
  },
  "language_info": {
   "codemirror_mode": {
    "name": "ipython",
    "version": 2
   },
   "file_extension": ".py",
   "mimetype": "text/x-python",
   "name": "python",
   "nbconvert_exporter": "python",
   "pygments_lexer": "ipython2",
   "version": "2.7.10"
  }
 },
 "nbformat": 4,
 "nbformat_minor": 0
}
