{
 "cells": [
  {
   "cell_type": "code",
   "execution_count": 124,
   "metadata": {
    "collapsed": true
   },
   "outputs": [],
   "source": [
    "%matplotlib inline\n",
    "import numpy as np\n",
    "import scipy as sp\n",
    "import matplotlib as mpl\n",
    "import matplotlib.cm as cm\n",
    "import matplotlib.pyplot as plt\n",
    "import pandas as pd\n",
    "import time\n",
    "pd.set_option('display.width', 500)\n",
    "pd.set_option('display.max_columns', 100)\n",
    "pd.set_option('display.notebook_repr_html', True)\n",
    "import seaborn as sns\n",
    "sns.set_style(\"whitegrid\")\n",
    "sns.set_context(\"poster\")\n",
    "import urllib2\n",
    "import re\n",
    "from subprocess import PIPE, Popen\n",
    "import os\n",
    "import glob\n",
    "import re\n",
    "import math\n",
    "from sklearn import feature_selection\n",
    "from sklearn.feature_selection import SelectKBest\n",
    "from sklearn.pipeline import Pipeline\n",
    "from scipy.stats.stats import pearsonr"
   ]
  },
  {
   "cell_type": "code",
   "execution_count": 3,
   "metadata": {
    "collapsed": false
   },
   "outputs": [
    {
     "data": {
      "text/plain": [
       "38"
      ]
     },
     "execution_count": 3,
     "metadata": {},
     "output_type": "execute_result"
    }
   ],
   "source": [
    "processArray = glob.glob('/Users/triptik/Documents/classes2015/data-science/project/data/geo-preprocessed/'+'*.csv')\n",
    "len(processArray)"
   ]
  },
  {
   "cell_type": "code",
   "execution_count": 4,
   "metadata": {
    "collapsed": false
   },
   "outputs": [
    {
     "name": "stderr",
     "output_type": "stream",
     "text": [
      "/Users/triptik/anaconda/lib/python2.7/site-packages/pandas/io/parsers.py:1170: DtypeWarning: Columns (21370,21371,21373) have mixed types. Specify dtype option on import or set low_memory=False.\n",
      "  data = self._reader.read(nrows)\n"
     ]
    }
   ],
   "source": [
    "#Creating one large dataframe from all of the normalized data\n",
    "for dfInd in range(0, len(processArray)):\n",
    "    df = pd.read_csv(processArray[dfInd])\n",
    "    if (dfInd == 0):\n",
    "        preprocAll = df\n",
    "    else:\n",
    "        preprocAll = preprocAll.append(df)"
   ]
  },
  {
   "cell_type": "code",
   "execution_count": 5,
   "metadata": {
    "collapsed": false
   },
   "outputs": [
    {
     "name": "stdout",
     "output_type": "stream",
     "text": [
      "Dimensions of full matrix:  (3740, 21374)\n",
      "Dimensions after removing NaN age:  (2362, 21374)\n"
     ]
    }
   ],
   "source": [
    "print \"Dimensions of full matrix: \", preprocAll.shape\n",
    "preprocAll = preprocAll[~preprocAll['age'].apply(np.isnan)]\n",
    "print \"Dimensions after removing NaN age: \", preprocAll.shape"
   ]
  },
  {
   "cell_type": "code",
   "execution_count": 6,
   "metadata": {
    "collapsed": true
   },
   "outputs": [],
   "source": [
    "#Using only non-cancer set for PCA and regression\n",
    "preprocFull = preprocAll[preprocAll['cancer'] != 1]\n",
    "#Using cancer set for prediction\n",
    "cancer = preprocAll[preprocAll['cancer'] == 1]"
   ]
  },
  {
   "cell_type": "code",
   "execution_count": 7,
   "metadata": {
    "collapsed": false
   },
   "outputs": [
    {
     "name": "stdout",
     "output_type": "stream",
     "text": [
      "Number of cancer cases:  0\n"
     ]
    },
    {
     "name": "stderr",
     "output_type": "stream",
     "text": [
      "/Users/triptik/anaconda/lib/python2.7/site-packages/IPython/kernel/__main__.py:1: SettingWithCopyWarning: \n",
      "A value is trying to be set on a copy of a slice from a DataFrame.\n",
      "Try using .loc[row_indexer,col_indexer] = value instead\n",
      "\n",
      "See the the caveats in the documentation: http://pandas.pydata.org/pandas-docs/stable/indexing.html#indexing-view-versus-copy\n",
      "  if __name__ == '__main__':\n"
     ]
    }
   ],
   "source": [
    "preprocFull['cancer'] = preprocFull['cancer'].astype('int')\n",
    "print \"Number of cancer cases: \", sum(preprocFull['cancer'])"
   ]
  },
  {
   "cell_type": "code",
   "execution_count": 8,
   "metadata": {
    "collapsed": false
   },
   "outputs": [
    {
     "name": "stdout",
     "output_type": "stream",
     "text": [
      "Number of normal cases:  0\n"
     ]
    },
    {
     "name": "stderr",
     "output_type": "stream",
     "text": [
      "/Users/triptik/anaconda/lib/python2.7/site-packages/IPython/kernel/__main__.py:1: SettingWithCopyWarning: \n",
      "A value is trying to be set on a copy of a slice from a DataFrame.\n",
      "Try using .loc[row_indexer,col_indexer] = value instead\n",
      "\n",
      "See the the caveats in the documentation: http://pandas.pydata.org/pandas-docs/stable/indexing.html#indexing-view-versus-copy\n",
      "  if __name__ == '__main__':\n"
     ]
    }
   ],
   "source": [
    "cancer['cancer'] = cancer['cancer'].astype('int')\n",
    "print \"Number of normal cases: \", sum(cancer['cancer']!=1)"
   ]
  },
  {
   "cell_type": "code",
   "execution_count": 9,
   "metadata": {
    "collapsed": false
   },
   "outputs": [
    {
     "data": {
      "text/html": [
       "<div>\n",
       "<table border=\"1\" class=\"dataframe\">\n",
       "  <thead>\n",
       "    <tr style=\"text-align: right;\">\n",
       "      <th></th>\n",
       "      <th>age</th>\n",
       "      <th>cancer</th>\n",
       "      <th>cg00000292</th>\n",
       "      <th>cg00002426</th>\n",
       "      <th>cg00003994</th>\n",
       "      <th>cg00005847</th>\n",
       "      <th>cg00007981</th>\n",
       "      <th>cg00008493</th>\n",
       "      <th>cg00008713</th>\n",
       "      <th>cg00009407</th>\n",
       "      <th>cg00011459</th>\n",
       "      <th>cg00012199</th>\n",
       "      <th>cg00012386</th>\n",
       "      <th>cg00012792</th>\n",
       "      <th>cg00013618</th>\n",
       "      <th>cg00014085</th>\n",
       "      <th>cg00014837</th>\n",
       "      <th>cg00015770</th>\n",
       "      <th>cg00019495</th>\n",
       "      <th>cg00020533</th>\n",
       "      <th>cg00021527</th>\n",
       "      <th>cg00022866</th>\n",
       "      <th>cg00024396</th>\n",
       "      <th>cg00024812</th>\n",
       "      <th>cg00025991</th>\n",
       "      <th>cg00027083</th>\n",
       "      <th>cg00027674</th>\n",
       "      <th>cg00029826</th>\n",
       "      <th>cg00031162</th>\n",
       "      <th>cg00032227</th>\n",
       "      <th>cg00033516</th>\n",
       "      <th>cg00033773</th>\n",
       "      <th>cg00034039</th>\n",
       "      <th>cg00035347</th>\n",
       "      <th>cg00035623</th>\n",
       "      <th>cg00037763</th>\n",
       "      <th>cg00037940</th>\n",
       "      <th>cg00040861</th>\n",
       "      <th>cg00040873</th>\n",
       "      <th>cg00043004</th>\n",
       "      <th>cg00043080</th>\n",
       "      <th>cg00044245</th>\n",
       "      <th>cg00047050</th>\n",
       "      <th>cg00047469</th>\n",
       "      <th>cg00050312</th>\n",
       "      <th>cg00051979</th>\n",
       "      <th>cg00054706</th>\n",
       "      <th>cg00056767</th>\n",
       "      <th>cg00057593</th>\n",
       "      <th>cg00058938</th>\n",
       "      <th>...</th>\n",
       "      <th>cg27600794</th>\n",
       "      <th>cg27601516</th>\n",
       "      <th>cg27603796</th>\n",
       "      <th>cg27606341</th>\n",
       "      <th>cg27607639</th>\n",
       "      <th>cg27609819</th>\n",
       "      <th>cg27610250</th>\n",
       "      <th>cg27610561</th>\n",
       "      <th>cg27611665</th>\n",
       "      <th>cg27611781</th>\n",
       "      <th>cg27613076</th>\n",
       "      <th>cg27614038</th>\n",
       "      <th>cg27619475</th>\n",
       "      <th>cg27622610</th>\n",
       "      <th>cg27623214</th>\n",
       "      <th>cg27625732</th>\n",
       "      <th>cg27626102</th>\n",
       "      <th>cg27626299</th>\n",
       "      <th>cg27626318</th>\n",
       "      <th>cg27626424</th>\n",
       "      <th>cg27626899</th>\n",
       "      <th>cg27627570</th>\n",
       "      <th>cg27628312</th>\n",
       "      <th>cg27631256</th>\n",
       "      <th>cg27631817</th>\n",
       "      <th>cg27633903</th>\n",
       "      <th>cg27634151</th>\n",
       "      <th>cg27635271</th>\n",
       "      <th>cg27637521</th>\n",
       "      <th>cg27638597</th>\n",
       "      <th>cg27638672</th>\n",
       "      <th>cg27638713</th>\n",
       "      <th>cg27641018</th>\n",
       "      <th>cg27643859</th>\n",
       "      <th>cg27648946</th>\n",
       "      <th>cg27649764</th>\n",
       "      <th>cg27650175</th>\n",
       "      <th>cg27650434</th>\n",
       "      <th>cg27652350</th>\n",
       "      <th>cg27653134</th>\n",
       "      <th>cg27654142</th>\n",
       "      <th>cg27655905</th>\n",
       "      <th>cg27657283</th>\n",
       "      <th>cg27662379</th>\n",
       "      <th>cg27662877</th>\n",
       "      <th>cg27665659</th>\n",
       "      <th>gender</th>\n",
       "      <th>sample_geo_id</th>\n",
       "      <th>sample_id</th>\n",
       "      <th>tissue_src</th>\n",
       "    </tr>\n",
       "  </thead>\n",
       "  <tbody>\n",
       "    <tr>\n",
       "      <th>0</th>\n",
       "      <td>50</td>\n",
       "      <td>0</td>\n",
       "      <td>0.249439</td>\n",
       "      <td>0.200710</td>\n",
       "      <td>0.051357</td>\n",
       "      <td>0.742340</td>\n",
       "      <td>0.027400</td>\n",
       "      <td>0.969301</td>\n",
       "      <td>0.026876</td>\n",
       "      <td>0.076392</td>\n",
       "      <td>0.913424</td>\n",
       "      <td>0.022401</td>\n",
       "      <td>0.021674</td>\n",
       "      <td>0.040939</td>\n",
       "      <td>0.587426</td>\n",
       "      <td>0.032701</td>\n",
       "      <td>0.856025</td>\n",
       "      <td>0.154357</td>\n",
       "      <td>0.195630</td>\n",
       "      <td>0.900833</td>\n",
       "      <td>0.017518</td>\n",
       "      <td>0.655288</td>\n",
       "      <td>0.079444</td>\n",
       "      <td>0.038857</td>\n",
       "      <td>0.497367</td>\n",
       "      <td>0.031832</td>\n",
       "      <td>0.063149</td>\n",
       "      <td>0.080270</td>\n",
       "      <td>0.250808</td>\n",
       "      <td>0.023048</td>\n",
       "      <td>0.023196</td>\n",
       "      <td>0.760483</td>\n",
       "      <td>0.115967</td>\n",
       "      <td>0.402469</td>\n",
       "      <td>0.137319</td>\n",
       "      <td>0.921279</td>\n",
       "      <td>0.834481</td>\n",
       "      <td>0.019326</td>\n",
       "      <td>0.192374</td>\n",
       "      <td>0.050972</td>\n",
       "      <td>0.883098</td>\n",
       "      <td>0.117687</td>\n",
       "      <td>0.069086</td>\n",
       "      <td>0.047490</td>\n",
       "      <td>0.024613</td>\n",
       "      <td>0.089200</td>\n",
       "      <td>0.027082</td>\n",
       "      <td>0.051814</td>\n",
       "      <td>0.359395</td>\n",
       "      <td>0.372161</td>\n",
       "      <td>...</td>\n",
       "      <td>0.807422</td>\n",
       "      <td>0.114480</td>\n",
       "      <td>0.087505</td>\n",
       "      <td>0.821243</td>\n",
       "      <td>0.028356</td>\n",
       "      <td>0.819309</td>\n",
       "      <td>0.012857</td>\n",
       "      <td>0.937965</td>\n",
       "      <td>0.013561</td>\n",
       "      <td>0.049636</td>\n",
       "      <td>0.055204</td>\n",
       "      <td>0.041294</td>\n",
       "      <td>0.054690</td>\n",
       "      <td>0.638939</td>\n",
       "      <td>0.839934</td>\n",
       "      <td>0.676104</td>\n",
       "      <td>0.115339</td>\n",
       "      <td>0.193929</td>\n",
       "      <td>0.034935</td>\n",
       "      <td>0.922266</td>\n",
       "      <td>0.099631</td>\n",
       "      <td>0.019241</td>\n",
       "      <td>0.014042</td>\n",
       "      <td>0.828147</td>\n",
       "      <td>0.338333</td>\n",
       "      <td>0.096003</td>\n",
       "      <td>0.053057</td>\n",
       "      <td>0.201522</td>\n",
       "      <td>0.017144</td>\n",
       "      <td>0.018325</td>\n",
       "      <td>0.027236</td>\n",
       "      <td>0.088667</td>\n",
       "      <td>0.680592</td>\n",
       "      <td>0.774362</td>\n",
       "      <td>0.062680</td>\n",
       "      <td>0.028338</td>\n",
       "      <td>0.025860</td>\n",
       "      <td>0.148553</td>\n",
       "      <td>0.278382</td>\n",
       "      <td>0.789000</td>\n",
       "      <td>0.038908</td>\n",
       "      <td>0.104930</td>\n",
       "      <td>0.029542</td>\n",
       "      <td>0.016209</td>\n",
       "      <td>0.030511</td>\n",
       "      <td>0.060581</td>\n",
       "      <td>NaN</td>\n",
       "      <td>GSM435111</td>\n",
       "      <td>MSC-BM_donor275-50yrs_P2</td>\n",
       "      <td>Mesenchymal stromal cells from human bone marr...</td>\n",
       "    </tr>\n",
       "    <tr>\n",
       "      <th>1</th>\n",
       "      <td>50</td>\n",
       "      <td>0</td>\n",
       "      <td>0.308393</td>\n",
       "      <td>0.156496</td>\n",
       "      <td>0.046323</td>\n",
       "      <td>0.774976</td>\n",
       "      <td>0.031397</td>\n",
       "      <td>0.972898</td>\n",
       "      <td>0.034388</td>\n",
       "      <td>0.059107</td>\n",
       "      <td>0.898251</td>\n",
       "      <td>0.016743</td>\n",
       "      <td>0.026882</td>\n",
       "      <td>0.035031</td>\n",
       "      <td>0.538918</td>\n",
       "      <td>0.033689</td>\n",
       "      <td>0.868578</td>\n",
       "      <td>0.096916</td>\n",
       "      <td>0.322353</td>\n",
       "      <td>0.843714</td>\n",
       "      <td>0.023248</td>\n",
       "      <td>0.616212</td>\n",
       "      <td>0.062367</td>\n",
       "      <td>0.035271</td>\n",
       "      <td>0.351826</td>\n",
       "      <td>0.041107</td>\n",
       "      <td>0.075486</td>\n",
       "      <td>0.080144</td>\n",
       "      <td>0.358332</td>\n",
       "      <td>0.020370</td>\n",
       "      <td>0.037010</td>\n",
       "      <td>0.884545</td>\n",
       "      <td>0.163881</td>\n",
       "      <td>0.340100</td>\n",
       "      <td>0.230774</td>\n",
       "      <td>0.903996</td>\n",
       "      <td>0.880255</td>\n",
       "      <td>0.025161</td>\n",
       "      <td>0.175720</td>\n",
       "      <td>0.091887</td>\n",
       "      <td>0.922546</td>\n",
       "      <td>0.101318</td>\n",
       "      <td>0.046231</td>\n",
       "      <td>0.043950</td>\n",
       "      <td>0.020741</td>\n",
       "      <td>0.095850</td>\n",
       "      <td>0.028801</td>\n",
       "      <td>0.037264</td>\n",
       "      <td>0.687618</td>\n",
       "      <td>0.340435</td>\n",
       "      <td>...</td>\n",
       "      <td>0.605272</td>\n",
       "      <td>0.100390</td>\n",
       "      <td>0.073166</td>\n",
       "      <td>0.784987</td>\n",
       "      <td>0.027648</td>\n",
       "      <td>0.790344</td>\n",
       "      <td>0.016722</td>\n",
       "      <td>0.929948</td>\n",
       "      <td>0.010669</td>\n",
       "      <td>0.061113</td>\n",
       "      <td>0.060875</td>\n",
       "      <td>0.041263</td>\n",
       "      <td>0.129184</td>\n",
       "      <td>0.678039</td>\n",
       "      <td>0.822494</td>\n",
       "      <td>0.712357</td>\n",
       "      <td>0.118902</td>\n",
       "      <td>0.124903</td>\n",
       "      <td>0.032283</td>\n",
       "      <td>0.885868</td>\n",
       "      <td>0.116979</td>\n",
       "      <td>0.018599</td>\n",
       "      <td>0.018080</td>\n",
       "      <td>0.903415</td>\n",
       "      <td>0.139440</td>\n",
       "      <td>0.128764</td>\n",
       "      <td>0.050339</td>\n",
       "      <td>0.273106</td>\n",
       "      <td>0.016024</td>\n",
       "      <td>0.016994</td>\n",
       "      <td>0.046208</td>\n",
       "      <td>0.085923</td>\n",
       "      <td>0.662196</td>\n",
       "      <td>0.736597</td>\n",
       "      <td>0.176506</td>\n",
       "      <td>0.041279</td>\n",
       "      <td>0.021463</td>\n",
       "      <td>0.102437</td>\n",
       "      <td>0.175641</td>\n",
       "      <td>0.812683</td>\n",
       "      <td>0.036272</td>\n",
       "      <td>0.088281</td>\n",
       "      <td>0.044188</td>\n",
       "      <td>0.018576</td>\n",
       "      <td>0.028882</td>\n",
       "      <td>0.033358</td>\n",
       "      <td>NaN</td>\n",
       "      <td>GSM435112</td>\n",
       "      <td>MSC-BM_donor275-50yrs_P10</td>\n",
       "      <td>Mesenchymal stromal cells from human bone marr...</td>\n",
       "    </tr>\n",
       "    <tr>\n",
       "      <th>2</th>\n",
       "      <td>21</td>\n",
       "      <td>0</td>\n",
       "      <td>0.264882</td>\n",
       "      <td>0.115070</td>\n",
       "      <td>0.040636</td>\n",
       "      <td>0.582202</td>\n",
       "      <td>0.030823</td>\n",
       "      <td>0.970228</td>\n",
       "      <td>0.034255</td>\n",
       "      <td>0.068475</td>\n",
       "      <td>0.866214</td>\n",
       "      <td>0.016213</td>\n",
       "      <td>0.045897</td>\n",
       "      <td>0.044912</td>\n",
       "      <td>0.616433</td>\n",
       "      <td>0.091644</td>\n",
       "      <td>0.864787</td>\n",
       "      <td>0.092358</td>\n",
       "      <td>0.087612</td>\n",
       "      <td>0.897860</td>\n",
       "      <td>0.026272</td>\n",
       "      <td>0.690331</td>\n",
       "      <td>0.061439</td>\n",
       "      <td>0.034884</td>\n",
       "      <td>0.488411</td>\n",
       "      <td>0.023026</td>\n",
       "      <td>0.076324</td>\n",
       "      <td>0.098320</td>\n",
       "      <td>0.255581</td>\n",
       "      <td>0.019823</td>\n",
       "      <td>0.028036</td>\n",
       "      <td>0.807688</td>\n",
       "      <td>0.138641</td>\n",
       "      <td>0.416316</td>\n",
       "      <td>0.112507</td>\n",
       "      <td>0.905818</td>\n",
       "      <td>0.862345</td>\n",
       "      <td>0.032410</td>\n",
       "      <td>0.192246</td>\n",
       "      <td>0.023264</td>\n",
       "      <td>0.881104</td>\n",
       "      <td>0.082550</td>\n",
       "      <td>0.040390</td>\n",
       "      <td>0.035464</td>\n",
       "      <td>0.015939</td>\n",
       "      <td>0.083124</td>\n",
       "      <td>0.024062</td>\n",
       "      <td>0.035684</td>\n",
       "      <td>0.363320</td>\n",
       "      <td>0.369186</td>\n",
       "      <td>...</td>\n",
       "      <td>0.721347</td>\n",
       "      <td>0.105548</td>\n",
       "      <td>0.078780</td>\n",
       "      <td>0.704914</td>\n",
       "      <td>0.019603</td>\n",
       "      <td>0.757573</td>\n",
       "      <td>0.036962</td>\n",
       "      <td>0.912017</td>\n",
       "      <td>0.009491</td>\n",
       "      <td>0.055991</td>\n",
       "      <td>0.048848</td>\n",
       "      <td>0.036295</td>\n",
       "      <td>0.031902</td>\n",
       "      <td>0.545673</td>\n",
       "      <td>0.813566</td>\n",
       "      <td>0.690370</td>\n",
       "      <td>0.119424</td>\n",
       "      <td>0.116485</td>\n",
       "      <td>0.038911</td>\n",
       "      <td>0.910296</td>\n",
       "      <td>0.108163</td>\n",
       "      <td>0.013844</td>\n",
       "      <td>0.011653</td>\n",
       "      <td>0.779531</td>\n",
       "      <td>0.223433</td>\n",
       "      <td>0.108624</td>\n",
       "      <td>0.047437</td>\n",
       "      <td>0.107551</td>\n",
       "      <td>0.018041</td>\n",
       "      <td>0.021593</td>\n",
       "      <td>0.045750</td>\n",
       "      <td>0.062191</td>\n",
       "      <td>0.670423</td>\n",
       "      <td>0.780261</td>\n",
       "      <td>0.044256</td>\n",
       "      <td>0.053674</td>\n",
       "      <td>0.015163</td>\n",
       "      <td>0.116912</td>\n",
       "      <td>0.463504</td>\n",
       "      <td>0.784149</td>\n",
       "      <td>0.039019</td>\n",
       "      <td>0.116454</td>\n",
       "      <td>0.046746</td>\n",
       "      <td>0.015254</td>\n",
       "      <td>0.070106</td>\n",
       "      <td>0.038966</td>\n",
       "      <td>NaN</td>\n",
       "      <td>GSM435113</td>\n",
       "      <td>MSC-BM_donor277-21yrs_P2</td>\n",
       "      <td>Mesenchymal stromal cells from human bone marr...</td>\n",
       "    </tr>\n",
       "    <tr>\n",
       "      <th>3</th>\n",
       "      <td>25</td>\n",
       "      <td>0</td>\n",
       "      <td>0.270769</td>\n",
       "      <td>0.104574</td>\n",
       "      <td>0.043619</td>\n",
       "      <td>0.730222</td>\n",
       "      <td>0.043277</td>\n",
       "      <td>0.978465</td>\n",
       "      <td>0.034968</td>\n",
       "      <td>0.054918</td>\n",
       "      <td>0.858166</td>\n",
       "      <td>0.013167</td>\n",
       "      <td>0.021137</td>\n",
       "      <td>0.068776</td>\n",
       "      <td>0.656508</td>\n",
       "      <td>0.047355</td>\n",
       "      <td>0.746991</td>\n",
       "      <td>0.132977</td>\n",
       "      <td>0.173293</td>\n",
       "      <td>0.893145</td>\n",
       "      <td>0.025026</td>\n",
       "      <td>0.684200</td>\n",
       "      <td>0.099495</td>\n",
       "      <td>0.035905</td>\n",
       "      <td>0.531468</td>\n",
       "      <td>0.029461</td>\n",
       "      <td>0.071989</td>\n",
       "      <td>0.111074</td>\n",
       "      <td>0.278317</td>\n",
       "      <td>0.025379</td>\n",
       "      <td>0.022866</td>\n",
       "      <td>0.786200</td>\n",
       "      <td>0.113023</td>\n",
       "      <td>0.380974</td>\n",
       "      <td>0.088755</td>\n",
       "      <td>0.892115</td>\n",
       "      <td>0.854511</td>\n",
       "      <td>0.022257</td>\n",
       "      <td>0.187057</td>\n",
       "      <td>0.061840</td>\n",
       "      <td>0.915802</td>\n",
       "      <td>0.088510</td>\n",
       "      <td>0.050373</td>\n",
       "      <td>0.051940</td>\n",
       "      <td>0.030760</td>\n",
       "      <td>0.078931</td>\n",
       "      <td>0.021075</td>\n",
       "      <td>0.052568</td>\n",
       "      <td>0.301883</td>\n",
       "      <td>0.378491</td>\n",
       "      <td>...</td>\n",
       "      <td>0.658445</td>\n",
       "      <td>0.091852</td>\n",
       "      <td>0.063384</td>\n",
       "      <td>0.746212</td>\n",
       "      <td>0.020930</td>\n",
       "      <td>0.817469</td>\n",
       "      <td>0.030065</td>\n",
       "      <td>0.937146</td>\n",
       "      <td>0.015745</td>\n",
       "      <td>0.092603</td>\n",
       "      <td>0.067719</td>\n",
       "      <td>0.032630</td>\n",
       "      <td>0.036730</td>\n",
       "      <td>0.565868</td>\n",
       "      <td>0.739769</td>\n",
       "      <td>0.681607</td>\n",
       "      <td>0.104618</td>\n",
       "      <td>0.158295</td>\n",
       "      <td>0.054993</td>\n",
       "      <td>0.913942</td>\n",
       "      <td>0.079383</td>\n",
       "      <td>0.015607</td>\n",
       "      <td>0.027504</td>\n",
       "      <td>0.802622</td>\n",
       "      <td>0.253648</td>\n",
       "      <td>0.145193</td>\n",
       "      <td>0.040069</td>\n",
       "      <td>0.150761</td>\n",
       "      <td>0.014784</td>\n",
       "      <td>0.044560</td>\n",
       "      <td>0.076436</td>\n",
       "      <td>0.055673</td>\n",
       "      <td>0.652823</td>\n",
       "      <td>0.763279</td>\n",
       "      <td>0.097977</td>\n",
       "      <td>0.032995</td>\n",
       "      <td>0.013051</td>\n",
       "      <td>0.122830</td>\n",
       "      <td>0.578694</td>\n",
       "      <td>0.721319</td>\n",
       "      <td>0.030329</td>\n",
       "      <td>0.094371</td>\n",
       "      <td>0.045372</td>\n",
       "      <td>0.017303</td>\n",
       "      <td>0.039757</td>\n",
       "      <td>0.027587</td>\n",
       "      <td>NaN</td>\n",
       "      <td>GSM435116</td>\n",
       "      <td>MSC-BM_donor279-25yrs_P2</td>\n",
       "      <td>Mesenchymal stromal cells from human bone marr...</td>\n",
       "    </tr>\n",
       "    <tr>\n",
       "      <th>4</th>\n",
       "      <td>24</td>\n",
       "      <td>0</td>\n",
       "      <td>0.216965</td>\n",
       "      <td>0.151096</td>\n",
       "      <td>0.065225</td>\n",
       "      <td>0.802321</td>\n",
       "      <td>0.041912</td>\n",
       "      <td>0.980798</td>\n",
       "      <td>0.023780</td>\n",
       "      <td>0.057312</td>\n",
       "      <td>0.919690</td>\n",
       "      <td>0.011575</td>\n",
       "      <td>0.045874</td>\n",
       "      <td>0.049890</td>\n",
       "      <td>0.659202</td>\n",
       "      <td>0.024493</td>\n",
       "      <td>0.835712</td>\n",
       "      <td>0.113051</td>\n",
       "      <td>0.121643</td>\n",
       "      <td>0.918345</td>\n",
       "      <td>0.027816</td>\n",
       "      <td>0.650203</td>\n",
       "      <td>0.076316</td>\n",
       "      <td>0.037042</td>\n",
       "      <td>0.418421</td>\n",
       "      <td>0.022834</td>\n",
       "      <td>0.102436</td>\n",
       "      <td>0.089969</td>\n",
       "      <td>0.352643</td>\n",
       "      <td>0.027845</td>\n",
       "      <td>0.063814</td>\n",
       "      <td>0.772561</td>\n",
       "      <td>0.132015</td>\n",
       "      <td>0.337292</td>\n",
       "      <td>0.099577</td>\n",
       "      <td>0.898606</td>\n",
       "      <td>0.868258</td>\n",
       "      <td>0.025893</td>\n",
       "      <td>0.153893</td>\n",
       "      <td>0.051451</td>\n",
       "      <td>0.927559</td>\n",
       "      <td>0.087017</td>\n",
       "      <td>0.061160</td>\n",
       "      <td>0.063089</td>\n",
       "      <td>0.031057</td>\n",
       "      <td>0.082975</td>\n",
       "      <td>0.022901</td>\n",
       "      <td>0.054062</td>\n",
       "      <td>0.328914</td>\n",
       "      <td>0.400906</td>\n",
       "      <td>...</td>\n",
       "      <td>0.643948</td>\n",
       "      <td>0.091669</td>\n",
       "      <td>0.036543</td>\n",
       "      <td>0.718778</td>\n",
       "      <td>0.021941</td>\n",
       "      <td>0.873980</td>\n",
       "      <td>0.031287</td>\n",
       "      <td>0.928127</td>\n",
       "      <td>0.022657</td>\n",
       "      <td>0.117208</td>\n",
       "      <td>0.066503</td>\n",
       "      <td>0.022929</td>\n",
       "      <td>0.086299</td>\n",
       "      <td>0.577582</td>\n",
       "      <td>0.733009</td>\n",
       "      <td>0.667700</td>\n",
       "      <td>0.119470</td>\n",
       "      <td>0.157050</td>\n",
       "      <td>0.053078</td>\n",
       "      <td>0.899559</td>\n",
       "      <td>0.062213</td>\n",
       "      <td>0.014951</td>\n",
       "      <td>0.019771</td>\n",
       "      <td>0.891879</td>\n",
       "      <td>0.380148</td>\n",
       "      <td>0.113549</td>\n",
       "      <td>0.027803</td>\n",
       "      <td>0.114153</td>\n",
       "      <td>0.016083</td>\n",
       "      <td>0.035214</td>\n",
       "      <td>0.037859</td>\n",
       "      <td>0.049504</td>\n",
       "      <td>0.592733</td>\n",
       "      <td>0.775912</td>\n",
       "      <td>0.076246</td>\n",
       "      <td>0.029105</td>\n",
       "      <td>0.015423</td>\n",
       "      <td>0.104255</td>\n",
       "      <td>0.574229</td>\n",
       "      <td>0.717114</td>\n",
       "      <td>0.035994</td>\n",
       "      <td>0.101664</td>\n",
       "      <td>0.034053</td>\n",
       "      <td>0.013781</td>\n",
       "      <td>0.074822</td>\n",
       "      <td>0.030467</td>\n",
       "      <td>NaN</td>\n",
       "      <td>GSM435117</td>\n",
       "      <td>MSC-BM_donor300-24yrs_P2</td>\n",
       "      <td>Mesenchymal stromal cells from human bone marr...</td>\n",
       "    </tr>\n",
       "  </tbody>\n",
       "</table>\n",
       "<p>5 rows × 21374 columns</p>\n",
       "</div>"
      ],
      "text/plain": [
       "   age  cancer  cg00000292  cg00002426  cg00003994  cg00005847  cg00007981  cg00008493  cg00008713  cg00009407  cg00011459  cg00012199  cg00012386  cg00012792  cg00013618  cg00014085  cg00014837  cg00015770  cg00019495  cg00020533  cg00021527  cg00022866  cg00024396  cg00024812  cg00025991  cg00027083  cg00027674  cg00029826  cg00031162  cg00032227  cg00033516  cg00033773  cg00034039  cg00035347  cg00035623  cg00037763  cg00037940  cg00040861  cg00040873  cg00043004  cg00043080  cg00044245  \\\n",
       "0   50       0    0.249439    0.200710    0.051357    0.742340    0.027400    0.969301    0.026876    0.076392    0.913424    0.022401    0.021674    0.040939    0.587426    0.032701    0.856025    0.154357    0.195630    0.900833    0.017518    0.655288    0.079444    0.038857    0.497367    0.031832    0.063149    0.080270    0.250808    0.023048    0.023196    0.760483    0.115967    0.402469    0.137319    0.921279    0.834481    0.019326    0.192374    0.050972    0.883098    0.117687   \n",
       "1   50       0    0.308393    0.156496    0.046323    0.774976    0.031397    0.972898    0.034388    0.059107    0.898251    0.016743    0.026882    0.035031    0.538918    0.033689    0.868578    0.096916    0.322353    0.843714    0.023248    0.616212    0.062367    0.035271    0.351826    0.041107    0.075486    0.080144    0.358332    0.020370    0.037010    0.884545    0.163881    0.340100    0.230774    0.903996    0.880255    0.025161    0.175720    0.091887    0.922546    0.101318   \n",
       "2   21       0    0.264882    0.115070    0.040636    0.582202    0.030823    0.970228    0.034255    0.068475    0.866214    0.016213    0.045897    0.044912    0.616433    0.091644    0.864787    0.092358    0.087612    0.897860    0.026272    0.690331    0.061439    0.034884    0.488411    0.023026    0.076324    0.098320    0.255581    0.019823    0.028036    0.807688    0.138641    0.416316    0.112507    0.905818    0.862345    0.032410    0.192246    0.023264    0.881104    0.082550   \n",
       "3   25       0    0.270769    0.104574    0.043619    0.730222    0.043277    0.978465    0.034968    0.054918    0.858166    0.013167    0.021137    0.068776    0.656508    0.047355    0.746991    0.132977    0.173293    0.893145    0.025026    0.684200    0.099495    0.035905    0.531468    0.029461    0.071989    0.111074    0.278317    0.025379    0.022866    0.786200    0.113023    0.380974    0.088755    0.892115    0.854511    0.022257    0.187057    0.061840    0.915802    0.088510   \n",
       "4   24       0    0.216965    0.151096    0.065225    0.802321    0.041912    0.980798    0.023780    0.057312    0.919690    0.011575    0.045874    0.049890    0.659202    0.024493    0.835712    0.113051    0.121643    0.918345    0.027816    0.650203    0.076316    0.037042    0.418421    0.022834    0.102436    0.089969    0.352643    0.027845    0.063814    0.772561    0.132015    0.337292    0.099577    0.898606    0.868258    0.025893    0.153893    0.051451    0.927559    0.087017   \n",
       "\n",
       "   cg00047050  cg00047469  cg00050312  cg00051979  cg00054706  cg00056767  cg00057593  cg00058938                        ...                          cg27600794  cg27601516  cg27603796  cg27606341  cg27607639  cg27609819  cg27610250  cg27610561  cg27611665  cg27611781  cg27613076  cg27614038  cg27619475  cg27622610  cg27623214  cg27625732  cg27626102  cg27626299  cg27626318  cg27626424  cg27626899  cg27627570  cg27628312  cg27631256  cg27631817  cg27633903  cg27634151  cg27635271  cg27637521  \\\n",
       "0    0.069086    0.047490    0.024613    0.089200    0.027082    0.051814    0.359395    0.372161                        ...                            0.807422    0.114480    0.087505    0.821243    0.028356    0.819309    0.012857    0.937965    0.013561    0.049636    0.055204    0.041294    0.054690    0.638939    0.839934    0.676104    0.115339    0.193929    0.034935    0.922266    0.099631    0.019241    0.014042    0.828147    0.338333    0.096003    0.053057    0.201522    0.017144   \n",
       "1    0.046231    0.043950    0.020741    0.095850    0.028801    0.037264    0.687618    0.340435                        ...                            0.605272    0.100390    0.073166    0.784987    0.027648    0.790344    0.016722    0.929948    0.010669    0.061113    0.060875    0.041263    0.129184    0.678039    0.822494    0.712357    0.118902    0.124903    0.032283    0.885868    0.116979    0.018599    0.018080    0.903415    0.139440    0.128764    0.050339    0.273106    0.016024   \n",
       "2    0.040390    0.035464    0.015939    0.083124    0.024062    0.035684    0.363320    0.369186                        ...                            0.721347    0.105548    0.078780    0.704914    0.019603    0.757573    0.036962    0.912017    0.009491    0.055991    0.048848    0.036295    0.031902    0.545673    0.813566    0.690370    0.119424    0.116485    0.038911    0.910296    0.108163    0.013844    0.011653    0.779531    0.223433    0.108624    0.047437    0.107551    0.018041   \n",
       "3    0.050373    0.051940    0.030760    0.078931    0.021075    0.052568    0.301883    0.378491                        ...                            0.658445    0.091852    0.063384    0.746212    0.020930    0.817469    0.030065    0.937146    0.015745    0.092603    0.067719    0.032630    0.036730    0.565868    0.739769    0.681607    0.104618    0.158295    0.054993    0.913942    0.079383    0.015607    0.027504    0.802622    0.253648    0.145193    0.040069    0.150761    0.014784   \n",
       "4    0.061160    0.063089    0.031057    0.082975    0.022901    0.054062    0.328914    0.400906                        ...                            0.643948    0.091669    0.036543    0.718778    0.021941    0.873980    0.031287    0.928127    0.022657    0.117208    0.066503    0.022929    0.086299    0.577582    0.733009    0.667700    0.119470    0.157050    0.053078    0.899559    0.062213    0.014951    0.019771    0.891879    0.380148    0.113549    0.027803    0.114153    0.016083   \n",
       "\n",
       "   cg27638597  cg27638672  cg27638713  cg27641018  cg27643859  cg27648946  cg27649764  cg27650175  cg27650434  cg27652350  cg27653134  cg27654142  cg27655905  cg27657283  cg27662379  cg27662877  cg27665659  gender  sample_geo_id                  sample_id                                         tissue_src  \n",
       "0    0.018325    0.027236    0.088667    0.680592    0.774362    0.062680    0.028338    0.025860    0.148553    0.278382    0.789000    0.038908    0.104930    0.029542    0.016209    0.030511    0.060581     NaN      GSM435111   MSC-BM_donor275-50yrs_P2  Mesenchymal stromal cells from human bone marr...  \n",
       "1    0.016994    0.046208    0.085923    0.662196    0.736597    0.176506    0.041279    0.021463    0.102437    0.175641    0.812683    0.036272    0.088281    0.044188    0.018576    0.028882    0.033358     NaN      GSM435112  MSC-BM_donor275-50yrs_P10  Mesenchymal stromal cells from human bone marr...  \n",
       "2    0.021593    0.045750    0.062191    0.670423    0.780261    0.044256    0.053674    0.015163    0.116912    0.463504    0.784149    0.039019    0.116454    0.046746    0.015254    0.070106    0.038966     NaN      GSM435113   MSC-BM_donor277-21yrs_P2  Mesenchymal stromal cells from human bone marr...  \n",
       "3    0.044560    0.076436    0.055673    0.652823    0.763279    0.097977    0.032995    0.013051    0.122830    0.578694    0.721319    0.030329    0.094371    0.045372    0.017303    0.039757    0.027587     NaN      GSM435116   MSC-BM_donor279-25yrs_P2  Mesenchymal stromal cells from human bone marr...  \n",
       "4    0.035214    0.037859    0.049504    0.592733    0.775912    0.076246    0.029105    0.015423    0.104255    0.574229    0.717114    0.035994    0.101664    0.034053    0.013781    0.074822    0.030467     NaN      GSM435117   MSC-BM_donor300-24yrs_P2  Mesenchymal stromal cells from human bone marr...  \n",
       "\n",
       "[5 rows x 21374 columns]"
      ]
     },
     "execution_count": 9,
     "metadata": {},
     "output_type": "execute_result"
    }
   ],
   "source": [
    "preprocFull.head()"
   ]
  },
  {
   "cell_type": "code",
   "execution_count": 10,
   "metadata": {
    "collapsed": false
   },
   "outputs": [
    {
     "data": {
      "text/html": [
       "<div>\n",
       "<table border=\"1\" class=\"dataframe\">\n",
       "  <thead>\n",
       "    <tr style=\"text-align: right;\">\n",
       "      <th></th>\n",
       "      <th>age</th>\n",
       "      <th>cancer</th>\n",
       "      <th>cg00000292</th>\n",
       "      <th>cg00002426</th>\n",
       "      <th>cg00003994</th>\n",
       "      <th>cg00005847</th>\n",
       "      <th>cg00007981</th>\n",
       "      <th>cg00008493</th>\n",
       "      <th>cg00008713</th>\n",
       "      <th>cg00009407</th>\n",
       "      <th>cg00011459</th>\n",
       "      <th>cg00012199</th>\n",
       "      <th>cg00012386</th>\n",
       "      <th>cg00012792</th>\n",
       "      <th>cg00013618</th>\n",
       "      <th>cg00014085</th>\n",
       "      <th>cg00014837</th>\n",
       "      <th>cg00015770</th>\n",
       "      <th>cg00019495</th>\n",
       "      <th>cg00020533</th>\n",
       "      <th>cg00021527</th>\n",
       "      <th>cg00022866</th>\n",
       "      <th>cg00024396</th>\n",
       "      <th>cg00024812</th>\n",
       "      <th>cg00025991</th>\n",
       "      <th>cg00027083</th>\n",
       "      <th>cg00027674</th>\n",
       "      <th>cg00029826</th>\n",
       "      <th>cg00031162</th>\n",
       "      <th>cg00032227</th>\n",
       "      <th>cg00033516</th>\n",
       "      <th>cg00033773</th>\n",
       "      <th>cg00034039</th>\n",
       "      <th>cg00035347</th>\n",
       "      <th>cg00035623</th>\n",
       "      <th>cg00037763</th>\n",
       "      <th>cg00037940</th>\n",
       "      <th>cg00040861</th>\n",
       "      <th>cg00040873</th>\n",
       "      <th>cg00043004</th>\n",
       "      <th>cg00043080</th>\n",
       "      <th>cg00044245</th>\n",
       "      <th>cg00047050</th>\n",
       "      <th>cg00047469</th>\n",
       "      <th>cg00050312</th>\n",
       "      <th>cg00051979</th>\n",
       "      <th>cg00054706</th>\n",
       "      <th>cg00056767</th>\n",
       "      <th>cg00057593</th>\n",
       "      <th>cg00058938</th>\n",
       "      <th>...</th>\n",
       "      <th>cg27600794</th>\n",
       "      <th>cg27601516</th>\n",
       "      <th>cg27603796</th>\n",
       "      <th>cg27606341</th>\n",
       "      <th>cg27607639</th>\n",
       "      <th>cg27609819</th>\n",
       "      <th>cg27610250</th>\n",
       "      <th>cg27610561</th>\n",
       "      <th>cg27611665</th>\n",
       "      <th>cg27611781</th>\n",
       "      <th>cg27613076</th>\n",
       "      <th>cg27614038</th>\n",
       "      <th>cg27619475</th>\n",
       "      <th>cg27622610</th>\n",
       "      <th>cg27623214</th>\n",
       "      <th>cg27625732</th>\n",
       "      <th>cg27626102</th>\n",
       "      <th>cg27626299</th>\n",
       "      <th>cg27626318</th>\n",
       "      <th>cg27626424</th>\n",
       "      <th>cg27626899</th>\n",
       "      <th>cg27627570</th>\n",
       "      <th>cg27628312</th>\n",
       "      <th>cg27631256</th>\n",
       "      <th>cg27631817</th>\n",
       "      <th>cg27633903</th>\n",
       "      <th>cg27634151</th>\n",
       "      <th>cg27635271</th>\n",
       "      <th>cg27637521</th>\n",
       "      <th>cg27638597</th>\n",
       "      <th>cg27638672</th>\n",
       "      <th>cg27638713</th>\n",
       "      <th>cg27641018</th>\n",
       "      <th>cg27643859</th>\n",
       "      <th>cg27648946</th>\n",
       "      <th>cg27649764</th>\n",
       "      <th>cg27650175</th>\n",
       "      <th>cg27650434</th>\n",
       "      <th>cg27652350</th>\n",
       "      <th>cg27653134</th>\n",
       "      <th>cg27654142</th>\n",
       "      <th>cg27655905</th>\n",
       "      <th>cg27657283</th>\n",
       "      <th>cg27662379</th>\n",
       "      <th>cg27662877</th>\n",
       "      <th>cg27665659</th>\n",
       "      <th>gender</th>\n",
       "      <th>sample_geo_id</th>\n",
       "      <th>sample_id</th>\n",
       "      <th>tissue_src</th>\n",
       "    </tr>\n",
       "  </thead>\n",
       "  <tbody>\n",
       "    <tr>\n",
       "      <th>0</th>\n",
       "      <td>1</td>\n",
       "      <td>1</td>\n",
       "      <td>0.742377</td>\n",
       "      <td>0.489831</td>\n",
       "      <td>0.088110</td>\n",
       "      <td>0.530238</td>\n",
       "      <td>0.055664</td>\n",
       "      <td>0.972224</td>\n",
       "      <td>0.038776</td>\n",
       "      <td>0.021043</td>\n",
       "      <td>0.918520</td>\n",
       "      <td>0.021043</td>\n",
       "      <td>0.038776</td>\n",
       "      <td>0.021043</td>\n",
       "      <td>0.792886</td>\n",
       "      <td>0.021043</td>\n",
       "      <td>0.792886</td>\n",
       "      <td>0.307997</td>\n",
       "      <td>0.196877</td>\n",
       "      <td>0.850245</td>\n",
       "      <td>0.021043</td>\n",
       "      <td>0.611053</td>\n",
       "      <td>0.021043</td>\n",
       "      <td>0.038776</td>\n",
       "      <td>0.489831</td>\n",
       "      <td>0.398914</td>\n",
       "      <td>0.358506</td>\n",
       "      <td>0.134788</td>\n",
       "      <td>0.499932</td>\n",
       "      <td>0.021043</td>\n",
       "      <td>0.072061</td>\n",
       "      <td>0.884638</td>\n",
       "      <td>0.088110</td>\n",
       "      <td>0.429219</td>\n",
       "      <td>0.088110</td>\n",
       "      <td>0.898244</td>\n",
       "      <td>0.857171</td>\n",
       "      <td>0.021043</td>\n",
       "      <td>0.267590</td>\n",
       "      <td>0.103887</td>\n",
       "      <td>0.870950</td>\n",
       "      <td>0.134788</td>\n",
       "      <td>0.072061</td>\n",
       "      <td>0.038776</td>\n",
       "      <td>0.021043</td>\n",
       "      <td>0.072061</td>\n",
       "      <td>0.021043</td>\n",
       "      <td>0.055664</td>\n",
       "      <td>0.570645</td>\n",
       "      <td>0.307997</td>\n",
       "      <td>...</td>\n",
       "      <td>0.681766</td>\n",
       "      <td>0.196877</td>\n",
       "      <td>0.287793</td>\n",
       "      <td>0.489831</td>\n",
       "      <td>0.021043</td>\n",
       "      <td>0.752479</td>\n",
       "      <td>0.038776</td>\n",
       "      <td>0.742377</td>\n",
       "      <td>0.021043</td>\n",
       "      <td>0.103887</td>\n",
       "      <td>0.021043</td>\n",
       "      <td>0.021043</td>\n",
       "      <td>0.742377</td>\n",
       "      <td>0.378710</td>\n",
       "      <td>0.701970</td>\n",
       "      <td>0.641358</td>\n",
       "      <td>0.469627</td>\n",
       "      <td>0.631257</td>\n",
       "      <td>0.038776</td>\n",
       "      <td>0.931968</td>\n",
       "      <td>0.072061</td>\n",
       "      <td>0.021043</td>\n",
       "      <td>0.021043</td>\n",
       "      <td>0.419118</td>\n",
       "      <td>0.520136</td>\n",
       "      <td>0.119437</td>\n",
       "      <td>0.358506</td>\n",
       "      <td>0.752479</td>\n",
       "      <td>0.103887</td>\n",
       "      <td>0.021043</td>\n",
       "      <td>0.055664</td>\n",
       "      <td>0.103887</td>\n",
       "      <td>0.671664</td>\n",
       "      <td>0.911777</td>\n",
       "      <td>0.176673</td>\n",
       "      <td>0.021043</td>\n",
       "      <td>0.055664</td>\n",
       "      <td>0.055664</td>\n",
       "      <td>0.641358</td>\n",
       "      <td>0.611053</td>\n",
       "      <td>0.227182</td>\n",
       "      <td>0.088110</td>\n",
       "      <td>0.055664</td>\n",
       "      <td>0.021043</td>\n",
       "      <td>0.038776</td>\n",
       "      <td>0.055664</td>\n",
       "      <td>NaN</td>\n",
       "      <td>GSM519817</td>\n",
       "      <td>Breast tumor from patient P_1 (methylation data)</td>\n",
       "      <td>Breast tumor</td>\n",
       "    </tr>\n",
       "    <tr>\n",
       "      <th>1</th>\n",
       "      <td>1</td>\n",
       "      <td>1</td>\n",
       "      <td>0.845257</td>\n",
       "      <td>0.424936</td>\n",
       "      <td>0.124736</td>\n",
       "      <td>0.718023</td>\n",
       "      <td>0.062314</td>\n",
       "      <td>0.978960</td>\n",
       "      <td>0.030818</td>\n",
       "      <td>0.015145</td>\n",
       "      <td>0.893818</td>\n",
       "      <td>0.030818</td>\n",
       "      <td>0.030818</td>\n",
       "      <td>0.030818</td>\n",
       "      <td>0.815718</td>\n",
       "      <td>0.030818</td>\n",
       "      <td>0.853433</td>\n",
       "      <td>0.210006</td>\n",
       "      <td>0.297932</td>\n",
       "      <td>0.893818</td>\n",
       "      <td>0.030818</td>\n",
       "      <td>0.796179</td>\n",
       "      <td>0.062314</td>\n",
       "      <td>0.046569</td>\n",
       "      <td>0.649636</td>\n",
       "      <td>0.708253</td>\n",
       "      <td>0.659405</td>\n",
       "      <td>0.155469</td>\n",
       "      <td>0.678944</td>\n",
       "      <td>0.030818</td>\n",
       "      <td>0.062314</td>\n",
       "      <td>0.917623</td>\n",
       "      <td>0.093666</td>\n",
       "      <td>0.317471</td>\n",
       "      <td>0.093666</td>\n",
       "      <td>0.917623</td>\n",
       "      <td>0.885809</td>\n",
       "      <td>0.030818</td>\n",
       "      <td>0.268623</td>\n",
       "      <td>0.268623</td>\n",
       "      <td>0.893818</td>\n",
       "      <td>0.093666</td>\n",
       "      <td>0.170697</td>\n",
       "      <td>0.030818</td>\n",
       "      <td>0.030818</td>\n",
       "      <td>0.046569</td>\n",
       "      <td>0.030818</td>\n",
       "      <td>0.030818</td>\n",
       "      <td>0.786409</td>\n",
       "      <td>0.493323</td>\n",
       "      <td>...</td>\n",
       "      <td>0.395627</td>\n",
       "      <td>0.170697</td>\n",
       "      <td>0.649636</td>\n",
       "      <td>0.405397</td>\n",
       "      <td>0.030818</td>\n",
       "      <td>0.796179</td>\n",
       "      <td>0.046569</td>\n",
       "      <td>0.385858</td>\n",
       "      <td>0.015145</td>\n",
       "      <td>0.180697</td>\n",
       "      <td>0.046569</td>\n",
       "      <td>0.015145</td>\n",
       "      <td>0.078020</td>\n",
       "      <td>0.288162</td>\n",
       "      <td>0.825488</td>\n",
       "      <td>0.835257</td>\n",
       "      <td>0.610558</td>\n",
       "      <td>0.639866</td>\n",
       "      <td>0.030818</td>\n",
       "      <td>0.941055</td>\n",
       "      <td>0.109241</td>\n",
       "      <td>0.046569</td>\n",
       "      <td>0.030818</td>\n",
       "      <td>0.853433</td>\n",
       "      <td>0.659405</td>\n",
       "      <td>0.190467</td>\n",
       "      <td>0.464014</td>\n",
       "      <td>0.737562</td>\n",
       "      <td>0.600788</td>\n",
       "      <td>0.030818</td>\n",
       "      <td>0.062314</td>\n",
       "      <td>0.078020</td>\n",
       "      <td>0.727792</td>\n",
       "      <td>0.901791</td>\n",
       "      <td>0.317471</td>\n",
       "      <td>0.015145</td>\n",
       "      <td>0.015145</td>\n",
       "      <td>0.278393</td>\n",
       "      <td>0.805949</td>\n",
       "      <td>0.737562</td>\n",
       "      <td>0.109241</td>\n",
       "      <td>0.078020</td>\n",
       "      <td>0.046569</td>\n",
       "      <td>0.015145</td>\n",
       "      <td>0.030818</td>\n",
       "      <td>0.046569</td>\n",
       "      <td>NaN</td>\n",
       "      <td>GSM519818</td>\n",
       "      <td>Breast tumor from patient P_10 (methylation data)</td>\n",
       "      <td>Breast tumor</td>\n",
       "    </tr>\n",
       "    <tr>\n",
       "      <th>2</th>\n",
       "      <td>1</td>\n",
       "      <td>1</td>\n",
       "      <td>0.596649</td>\n",
       "      <td>0.203046</td>\n",
       "      <td>0.257713</td>\n",
       "      <td>0.607583</td>\n",
       "      <td>0.070087</td>\n",
       "      <td>0.985134</td>\n",
       "      <td>0.020305</td>\n",
       "      <td>0.020305</td>\n",
       "      <td>0.815318</td>\n",
       "      <td>0.020305</td>\n",
       "      <td>0.050225</td>\n",
       "      <td>0.050225</td>\n",
       "      <td>0.782518</td>\n",
       "      <td>0.020305</td>\n",
       "      <td>0.705984</td>\n",
       "      <td>0.552916</td>\n",
       "      <td>0.388914</td>\n",
       "      <td>0.826251</td>\n",
       "      <td>0.030305</td>\n",
       "      <td>0.837185</td>\n",
       "      <td>0.030305</td>\n",
       "      <td>0.030305</td>\n",
       "      <td>0.541982</td>\n",
       "      <td>0.080005</td>\n",
       "      <td>0.356114</td>\n",
       "      <td>0.246779</td>\n",
       "      <td>0.552916</td>\n",
       "      <td>0.050225</td>\n",
       "      <td>0.060161</td>\n",
       "      <td>0.847185</td>\n",
       "      <td>0.050225</td>\n",
       "      <td>0.345180</td>\n",
       "      <td>0.099824</td>\n",
       "      <td>0.920973</td>\n",
       "      <td>0.880757</td>\n",
       "      <td>0.020305</td>\n",
       "      <td>0.119627</td>\n",
       "      <td>0.080005</td>\n",
       "      <td>0.897105</td>\n",
       "      <td>0.040275</td>\n",
       "      <td>0.060161</td>\n",
       "      <td>0.030305</td>\n",
       "      <td>0.060161</td>\n",
       "      <td>0.050225</td>\n",
       "      <td>0.020305</td>\n",
       "      <td>0.089917</td>\n",
       "      <td>0.673183</td>\n",
       "      <td>0.640383</td>\n",
       "      <td>...</td>\n",
       "      <td>0.421714</td>\n",
       "      <td>0.070087</td>\n",
       "      <td>0.246779</td>\n",
       "      <td>0.541982</td>\n",
       "      <td>0.020305</td>\n",
       "      <td>0.826251</td>\n",
       "      <td>0.070087</td>\n",
       "      <td>0.421714</td>\n",
       "      <td>0.050225</td>\n",
       "      <td>0.235846</td>\n",
       "      <td>0.080005</td>\n",
       "      <td>0.020305</td>\n",
       "      <td>0.705984</td>\n",
       "      <td>0.235846</td>\n",
       "      <td>0.738784</td>\n",
       "      <td>0.847185</td>\n",
       "      <td>0.129524</td>\n",
       "      <td>0.618516</td>\n",
       "      <td>0.099824</td>\n",
       "      <td>0.847185</td>\n",
       "      <td>0.060161</td>\n",
       "      <td>0.020305</td>\n",
       "      <td>0.080005</td>\n",
       "      <td>0.716917</td>\n",
       "      <td>0.640383</td>\n",
       "      <td>0.170245</td>\n",
       "      <td>0.257713</td>\n",
       "      <td>0.454515</td>\n",
       "      <td>0.030305</td>\n",
       "      <td>0.089917</td>\n",
       "      <td>0.089917</td>\n",
       "      <td>0.070087</td>\n",
       "      <td>0.443581</td>\n",
       "      <td>0.905154</td>\n",
       "      <td>0.203046</td>\n",
       "      <td>0.010249</td>\n",
       "      <td>0.020305</td>\n",
       "      <td>0.060161</td>\n",
       "      <td>0.804385</td>\n",
       "      <td>0.695050</td>\n",
       "      <td>0.040275</td>\n",
       "      <td>0.040275</td>\n",
       "      <td>0.109727</td>\n",
       "      <td>0.020305</td>\n",
       "      <td>0.020305</td>\n",
       "      <td>0.050225</td>\n",
       "      <td>NaN</td>\n",
       "      <td>GSM519819</td>\n",
       "      <td>Breast tumor from patient P_101 (methylation d...</td>\n",
       "      <td>Breast tumor</td>\n",
       "    </tr>\n",
       "    <tr>\n",
       "      <th>3</th>\n",
       "      <td>1</td>\n",
       "      <td>1</td>\n",
       "      <td>0.885246</td>\n",
       "      <td>0.445778</td>\n",
       "      <td>0.192806</td>\n",
       "      <td>0.536848</td>\n",
       "      <td>0.084960</td>\n",
       "      <td>0.966961</td>\n",
       "      <td>0.021820</td>\n",
       "      <td>0.021820</td>\n",
       "      <td>0.902303</td>\n",
       "      <td>0.021820</td>\n",
       "      <td>0.034075</td>\n",
       "      <td>0.034075</td>\n",
       "      <td>0.698750</td>\n",
       "      <td>0.034075</td>\n",
       "      <td>0.902303</td>\n",
       "      <td>0.192806</td>\n",
       "      <td>0.182687</td>\n",
       "      <td>0.927334</td>\n",
       "      <td>0.021820</td>\n",
       "      <td>0.678512</td>\n",
       "      <td>0.034075</td>\n",
       "      <td>0.046602</td>\n",
       "      <td>0.597561</td>\n",
       "      <td>0.304114</td>\n",
       "      <td>0.263638</td>\n",
       "      <td>0.192806</td>\n",
       "      <td>0.678512</td>\n",
       "      <td>0.021820</td>\n",
       "      <td>0.046602</td>\n",
       "      <td>0.951507</td>\n",
       "      <td>0.059295</td>\n",
       "      <td>0.557086</td>\n",
       "      <td>0.084960</td>\n",
       "      <td>0.927334</td>\n",
       "      <td>0.885246</td>\n",
       "      <td>0.034075</td>\n",
       "      <td>0.162568</td>\n",
       "      <td>0.046602</td>\n",
       "      <td>0.885246</td>\n",
       "      <td>0.084960</td>\n",
       "      <td>0.123752</td>\n",
       "      <td>0.034075</td>\n",
       "      <td>0.034075</td>\n",
       "      <td>0.072093</td>\n",
       "      <td>0.034075</td>\n",
       "      <td>0.034075</td>\n",
       "      <td>0.597561</td>\n",
       "      <td>0.293995</td>\n",
       "      <td>...</td>\n",
       "      <td>0.415421</td>\n",
       "      <td>0.149641</td>\n",
       "      <td>0.587442</td>\n",
       "      <td>0.658274</td>\n",
       "      <td>0.021820</td>\n",
       "      <td>0.799939</td>\n",
       "      <td>0.021820</td>\n",
       "      <td>0.688631</td>\n",
       "      <td>0.010079</td>\n",
       "      <td>0.110805</td>\n",
       "      <td>0.021820</td>\n",
       "      <td>0.021820</td>\n",
       "      <td>0.698750</td>\n",
       "      <td>0.263638</td>\n",
       "      <td>0.799939</td>\n",
       "      <td>0.658274</td>\n",
       "      <td>0.233282</td>\n",
       "      <td>0.435659</td>\n",
       "      <td>0.072093</td>\n",
       "      <td>0.943563</td>\n",
       "      <td>0.072093</td>\n",
       "      <td>0.021820</td>\n",
       "      <td>0.010079</td>\n",
       "      <td>0.577323</td>\n",
       "      <td>0.567205</td>\n",
       "      <td>0.123752</td>\n",
       "      <td>0.149641</td>\n",
       "      <td>0.820176</td>\n",
       "      <td>0.435659</td>\n",
       "      <td>0.034075</td>\n",
       "      <td>0.097870</td>\n",
       "      <td>0.084960</td>\n",
       "      <td>0.496372</td>\n",
       "      <td>0.919073</td>\n",
       "      <td>0.097870</td>\n",
       "      <td>0.034075</td>\n",
       "      <td>0.698750</td>\n",
       "      <td>0.072093</td>\n",
       "      <td>0.172568</td>\n",
       "      <td>0.627918</td>\n",
       "      <td>0.123752</td>\n",
       "      <td>0.059295</td>\n",
       "      <td>0.084960</td>\n",
       "      <td>0.021820</td>\n",
       "      <td>0.034075</td>\n",
       "      <td>0.046602</td>\n",
       "      <td>NaN</td>\n",
       "      <td>GSM519820</td>\n",
       "      <td>Breast tumor from patient P_102 (methylation d...</td>\n",
       "      <td>Breast tumor</td>\n",
       "    </tr>\n",
       "    <tr>\n",
       "      <th>4</th>\n",
       "      <td>0</td>\n",
       "      <td>1</td>\n",
       "      <td>0.559516</td>\n",
       "      <td>0.193938</td>\n",
       "      <td>0.299763</td>\n",
       "      <td>0.530654</td>\n",
       "      <td>0.071281</td>\n",
       "      <td>0.969555</td>\n",
       "      <td>0.025796</td>\n",
       "      <td>0.011677</td>\n",
       "      <td>0.866346</td>\n",
       "      <td>0.025796</td>\n",
       "      <td>0.025796</td>\n",
       "      <td>0.040646</td>\n",
       "      <td>0.684582</td>\n",
       "      <td>0.040646</td>\n",
       "      <td>0.790407</td>\n",
       "      <td>0.549895</td>\n",
       "      <td>0.290143</td>\n",
       "      <td>0.809648</td>\n",
       "      <td>0.011677</td>\n",
       "      <td>0.790407</td>\n",
       "      <td>0.040646</td>\n",
       "      <td>0.055863</td>\n",
       "      <td>0.578757</td>\n",
       "      <td>0.501793</td>\n",
       "      <td>0.501793</td>\n",
       "      <td>0.184317</td>\n",
       "      <td>0.626859</td>\n",
       "      <td>0.025796</td>\n",
       "      <td>0.055863</td>\n",
       "      <td>0.694202</td>\n",
       "      <td>0.071281</td>\n",
       "      <td>0.290143</td>\n",
       "      <td>0.174697</td>\n",
       "      <td>0.944604</td>\n",
       "      <td>0.875214</td>\n",
       "      <td>0.025796</td>\n",
       "      <td>0.102399</td>\n",
       "      <td>0.242040</td>\n",
       "      <td>0.901591</td>\n",
       "      <td>0.055863</td>\n",
       "      <td>0.055863</td>\n",
       "      <td>0.040646</td>\n",
       "      <td>0.055863</td>\n",
       "      <td>0.071281</td>\n",
       "      <td>0.025796</td>\n",
       "      <td>0.071281</td>\n",
       "      <td>0.415209</td>\n",
       "      <td>0.492172</td>\n",
       "      <td>...</td>\n",
       "      <td>0.328624</td>\n",
       "      <td>0.102399</td>\n",
       "      <td>0.367106</td>\n",
       "      <td>0.684582</td>\n",
       "      <td>0.025796</td>\n",
       "      <td>0.828889</td>\n",
       "      <td>0.025796</td>\n",
       "      <td>0.367106</td>\n",
       "      <td>0.040646</td>\n",
       "      <td>0.118005</td>\n",
       "      <td>0.040646</td>\n",
       "      <td>0.025796</td>\n",
       "      <td>0.025796</td>\n",
       "      <td>0.405588</td>\n",
       "      <td>0.819269</td>\n",
       "      <td>0.780787</td>\n",
       "      <td>0.071281</td>\n",
       "      <td>0.444070</td>\n",
       "      <td>0.055863</td>\n",
       "      <td>0.626859</td>\n",
       "      <td>0.071281</td>\n",
       "      <td>0.040646</td>\n",
       "      <td>0.011677</td>\n",
       "      <td>0.800028</td>\n",
       "      <td>0.694202</td>\n",
       "      <td>0.174697</td>\n",
       "      <td>0.434450</td>\n",
       "      <td>0.463311</td>\n",
       "      <td>0.040646</td>\n",
       "      <td>0.040646</td>\n",
       "      <td>0.102399</td>\n",
       "      <td>0.102399</td>\n",
       "      <td>0.357486</td>\n",
       "      <td>0.910299</td>\n",
       "      <td>0.118005</td>\n",
       "      <td>0.025796</td>\n",
       "      <td>0.011677</td>\n",
       "      <td>0.149172</td>\n",
       "      <td>0.703823</td>\n",
       "      <td>0.626859</td>\n",
       "      <td>0.055863</td>\n",
       "      <td>0.071281</td>\n",
       "      <td>0.055863</td>\n",
       "      <td>0.025796</td>\n",
       "      <td>0.025796</td>\n",
       "      <td>0.071281</td>\n",
       "      <td>NaN</td>\n",
       "      <td>GSM519821</td>\n",
       "      <td>Breast tumor from patient P_103 (methylation d...</td>\n",
       "      <td>Breast tumor</td>\n",
       "    </tr>\n",
       "  </tbody>\n",
       "</table>\n",
       "<p>5 rows × 21374 columns</p>\n",
       "</div>"
      ],
      "text/plain": [
       "   age  cancer  cg00000292  cg00002426  cg00003994  cg00005847  cg00007981  cg00008493  cg00008713  cg00009407  cg00011459  cg00012199  cg00012386  cg00012792  cg00013618  cg00014085  cg00014837  cg00015770  cg00019495  cg00020533  cg00021527  cg00022866  cg00024396  cg00024812  cg00025991  cg00027083  cg00027674  cg00029826  cg00031162  cg00032227  cg00033516  cg00033773  cg00034039  cg00035347  cg00035623  cg00037763  cg00037940  cg00040861  cg00040873  cg00043004  cg00043080  cg00044245  \\\n",
       "0    1       1    0.742377    0.489831    0.088110    0.530238    0.055664    0.972224    0.038776    0.021043    0.918520    0.021043    0.038776    0.021043    0.792886    0.021043    0.792886    0.307997    0.196877    0.850245    0.021043    0.611053    0.021043    0.038776    0.489831    0.398914    0.358506    0.134788    0.499932    0.021043    0.072061    0.884638    0.088110    0.429219    0.088110    0.898244    0.857171    0.021043    0.267590    0.103887    0.870950    0.134788   \n",
       "1    1       1    0.845257    0.424936    0.124736    0.718023    0.062314    0.978960    0.030818    0.015145    0.893818    0.030818    0.030818    0.030818    0.815718    0.030818    0.853433    0.210006    0.297932    0.893818    0.030818    0.796179    0.062314    0.046569    0.649636    0.708253    0.659405    0.155469    0.678944    0.030818    0.062314    0.917623    0.093666    0.317471    0.093666    0.917623    0.885809    0.030818    0.268623    0.268623    0.893818    0.093666   \n",
       "2    1       1    0.596649    0.203046    0.257713    0.607583    0.070087    0.985134    0.020305    0.020305    0.815318    0.020305    0.050225    0.050225    0.782518    0.020305    0.705984    0.552916    0.388914    0.826251    0.030305    0.837185    0.030305    0.030305    0.541982    0.080005    0.356114    0.246779    0.552916    0.050225    0.060161    0.847185    0.050225    0.345180    0.099824    0.920973    0.880757    0.020305    0.119627    0.080005    0.897105    0.040275   \n",
       "3    1       1    0.885246    0.445778    0.192806    0.536848    0.084960    0.966961    0.021820    0.021820    0.902303    0.021820    0.034075    0.034075    0.698750    0.034075    0.902303    0.192806    0.182687    0.927334    0.021820    0.678512    0.034075    0.046602    0.597561    0.304114    0.263638    0.192806    0.678512    0.021820    0.046602    0.951507    0.059295    0.557086    0.084960    0.927334    0.885246    0.034075    0.162568    0.046602    0.885246    0.084960   \n",
       "4    0       1    0.559516    0.193938    0.299763    0.530654    0.071281    0.969555    0.025796    0.011677    0.866346    0.025796    0.025796    0.040646    0.684582    0.040646    0.790407    0.549895    0.290143    0.809648    0.011677    0.790407    0.040646    0.055863    0.578757    0.501793    0.501793    0.184317    0.626859    0.025796    0.055863    0.694202    0.071281    0.290143    0.174697    0.944604    0.875214    0.025796    0.102399    0.242040    0.901591    0.055863   \n",
       "\n",
       "   cg00047050  cg00047469  cg00050312  cg00051979  cg00054706  cg00056767  cg00057593  cg00058938      ...       cg27600794  cg27601516  cg27603796  cg27606341  cg27607639  cg27609819  cg27610250  cg27610561  cg27611665  cg27611781  cg27613076  cg27614038  cg27619475  cg27622610  cg27623214  cg27625732  cg27626102  cg27626299  cg27626318  cg27626424  cg27626899  cg27627570  cg27628312  cg27631256  cg27631817  cg27633903  cg27634151  cg27635271  cg27637521  cg27638597  cg27638672  cg27638713  \\\n",
       "0    0.072061    0.038776    0.021043    0.072061    0.021043    0.055664    0.570645    0.307997      ...         0.681766    0.196877    0.287793    0.489831    0.021043    0.752479    0.038776    0.742377    0.021043    0.103887    0.021043    0.021043    0.742377    0.378710    0.701970    0.641358    0.469627    0.631257    0.038776    0.931968    0.072061    0.021043    0.021043    0.419118    0.520136    0.119437    0.358506    0.752479    0.103887    0.021043    0.055664    0.103887   \n",
       "1    0.170697    0.030818    0.030818    0.046569    0.030818    0.030818    0.786409    0.493323      ...         0.395627    0.170697    0.649636    0.405397    0.030818    0.796179    0.046569    0.385858    0.015145    0.180697    0.046569    0.015145    0.078020    0.288162    0.825488    0.835257    0.610558    0.639866    0.030818    0.941055    0.109241    0.046569    0.030818    0.853433    0.659405    0.190467    0.464014    0.737562    0.600788    0.030818    0.062314    0.078020   \n",
       "2    0.060161    0.030305    0.060161    0.050225    0.020305    0.089917    0.673183    0.640383      ...         0.421714    0.070087    0.246779    0.541982    0.020305    0.826251    0.070087    0.421714    0.050225    0.235846    0.080005    0.020305    0.705984    0.235846    0.738784    0.847185    0.129524    0.618516    0.099824    0.847185    0.060161    0.020305    0.080005    0.716917    0.640383    0.170245    0.257713    0.454515    0.030305    0.089917    0.089917    0.070087   \n",
       "3    0.123752    0.034075    0.034075    0.072093    0.034075    0.034075    0.597561    0.293995      ...         0.415421    0.149641    0.587442    0.658274    0.021820    0.799939    0.021820    0.688631    0.010079    0.110805    0.021820    0.021820    0.698750    0.263638    0.799939    0.658274    0.233282    0.435659    0.072093    0.943563    0.072093    0.021820    0.010079    0.577323    0.567205    0.123752    0.149641    0.820176    0.435659    0.034075    0.097870    0.084960   \n",
       "4    0.055863    0.040646    0.055863    0.071281    0.025796    0.071281    0.415209    0.492172      ...         0.328624    0.102399    0.367106    0.684582    0.025796    0.828889    0.025796    0.367106    0.040646    0.118005    0.040646    0.025796    0.025796    0.405588    0.819269    0.780787    0.071281    0.444070    0.055863    0.626859    0.071281    0.040646    0.011677    0.800028    0.694202    0.174697    0.434450    0.463311    0.040646    0.040646    0.102399    0.102399   \n",
       "\n",
       "   cg27641018  cg27643859  cg27648946  cg27649764  cg27650175  cg27650434  cg27652350  cg27653134  cg27654142  cg27655905  cg27657283  cg27662379  cg27662877  cg27665659  gender  sample_geo_id                                          sample_id    tissue_src  \n",
       "0    0.671664    0.911777    0.176673    0.021043    0.055664    0.055664    0.641358    0.611053    0.227182    0.088110    0.055664    0.021043    0.038776    0.055664     NaN      GSM519817   Breast tumor from patient P_1 (methylation data)  Breast tumor  \n",
       "1    0.727792    0.901791    0.317471    0.015145    0.015145    0.278393    0.805949    0.737562    0.109241    0.078020    0.046569    0.015145    0.030818    0.046569     NaN      GSM519818  Breast tumor from patient P_10 (methylation data)  Breast tumor  \n",
       "2    0.443581    0.905154    0.203046    0.010249    0.020305    0.060161    0.804385    0.695050    0.040275    0.040275    0.109727    0.020305    0.020305    0.050225     NaN      GSM519819  Breast tumor from patient P_101 (methylation d...  Breast tumor  \n",
       "3    0.496372    0.919073    0.097870    0.034075    0.698750    0.072093    0.172568    0.627918    0.123752    0.059295    0.084960    0.021820    0.034075    0.046602     NaN      GSM519820  Breast tumor from patient P_102 (methylation d...  Breast tumor  \n",
       "4    0.357486    0.910299    0.118005    0.025796    0.011677    0.149172    0.703823    0.626859    0.055863    0.071281    0.055863    0.025796    0.025796    0.071281     NaN      GSM519821  Breast tumor from patient P_103 (methylation d...  Breast tumor  \n",
       "\n",
       "[5 rows x 21374 columns]"
      ]
     },
     "execution_count": 10,
     "metadata": {},
     "output_type": "execute_result"
    }
   ],
   "source": [
    "cancer.head()"
   ]
  },
  {
   "cell_type": "code",
   "execution_count": 11,
   "metadata": {
    "collapsed": false
   },
   "outputs": [],
   "source": [
    "#Setting up the x and y matrices. metColumns contains the column names for the variables we want to include\n",
    "#in our regression. Right now it only contains the CpG sites, because the gender is not available for all \n",
    "#datasets. You can add variables by appending the column name into metColumns\n",
    "metColumns = preprocFull.columns[[re.match(r\"cg\", col) != None for col in preprocFull.columns]].values.tolist()\n",
    "\n",
    "\n",
    "#appending cancer as one of the variables\n",
    "#metColumns.append('cancer')\n",
    "metDFx = preprocFull[metColumns]\n",
    "cancerDFx=cancer[metColumns]\n",
    "\n",
    "#Separating response variable\n",
    "metDFy = pd.DataFrame(preprocFull['age'])\n",
    "cancerDFy = pd.DataFrame(cancer['age'])"
   ]
  },
  {
   "cell_type": "code",
   "execution_count": null,
   "metadata": {
    "collapsed": true
   },
   "outputs": [],
   "source": []
  },
  {
   "cell_type": "code",
   "execution_count": 12,
   "metadata": {
    "collapsed": false
   },
   "outputs": [
    {
     "name": "stdout",
     "output_type": "stream",
     "text": [
      "(1833, 21368)\n",
      "(1833, 1)\n",
      "(529, 21368)\n",
      "(529, 1)\n"
     ]
    }
   ],
   "source": [
    "print metDFx.shape\n",
    "print metDFy.shape\n",
    "\n",
    "print cancerDFx.shape\n",
    "print cancerDFy.shape"
   ]
  },
  {
   "cell_type": "code",
   "execution_count": 13,
   "metadata": {
    "collapsed": false
   },
   "outputs": [],
   "source": [
    "def replaceNan(column):\n",
    "    columnFix = column.fillna(column.mean())\n",
    "    return columnFix\n",
    "metDFx = metDFx.apply(replaceNan)\n",
    "cancerDFx = cancerDFx.apply(replaceNan)"
   ]
  },
  {
   "cell_type": "code",
   "execution_count": 14,
   "metadata": {
    "collapsed": false
   },
   "outputs": [
    {
     "data": {
      "text/plain": [
       "((1833,), 1283)"
      ]
     },
     "execution_count": 14,
     "metadata": {},
     "output_type": "execute_result"
    }
   ],
   "source": [
    "from sklearn.cross_validation import train_test_split\n",
    "itrain, itest = train_test_split(xrange(preprocFull.shape[0]), train_size=0.7)\n",
    "mask=np.ones(preprocFull.shape[0], dtype='int')\n",
    "mask[itrain]=1\n",
    "mask[itest]=0\n",
    "mask = (mask==1)\n",
    "mask.shape, mask.sum()"
   ]
  },
  {
   "cell_type": "code",
   "execution_count": 15,
   "metadata": {
    "collapsed": false
   },
   "outputs": [],
   "source": [
    "Xmatrix_train=metDFx[mask]\n",
    "Xmatrix_test=metDFx[~mask]\n",
    "Yresp_train=metDFy[mask]['age']\n",
    "Yresp_test=metDFy[~mask]['age']\n",
    "Xmatrix_cancer=cancerDFx\n",
    "Yresp_cancer=cancerDFy['age']"
   ]
  },
  {
   "cell_type": "code",
   "execution_count": 16,
   "metadata": {
    "collapsed": false
   },
   "outputs": [
    {
     "name": "stdout",
     "output_type": "stream",
     "text": [
      "(1283, 21368)\n",
      "(1283,)\n"
     ]
    }
   ],
   "source": [
    "print Xmatrix_train.shape\n",
    "print Yresp_train.shape"
   ]
  },
  {
   "cell_type": "code",
   "execution_count": 17,
   "metadata": {
    "collapsed": false
   },
   "outputs": [
    {
     "name": "stdout",
     "output_type": "stream",
     "text": [
      "CPU times: user 37.3 s, sys: 1.66 s, total: 39 s\n",
      "Wall time: 22.8 s\n"
     ]
    }
   ],
   "source": [
    "%%time\n",
    "from sklearn.decomposition import PCA\n",
    "pca = PCA()\n",
    "pca.fit(Xmatrix_train)"
   ]
  },
  {
   "cell_type": "code",
   "execution_count": 18,
   "metadata": {
    "collapsed": false
   },
   "outputs": [],
   "source": [
    "#Variance explained by the principal components\n",
    "#(pca.explained_variance_ratio_)"
   ]
  },
  {
   "cell_type": "code",
   "execution_count": 19,
   "metadata": {
    "collapsed": true
   },
   "outputs": [],
   "source": [
    "#Xmatrix_new = pca.transform(Xmatrix_train)"
   ]
  },
  {
   "cell_type": "code",
   "execution_count": 20,
   "metadata": {
    "collapsed": false
   },
   "outputs": [],
   "source": [
    "#sum(pca.explained_variance_ratio_)"
   ]
  },
  {
   "cell_type": "code",
   "execution_count": 21,
   "metadata": {
    "collapsed": false
   },
   "outputs": [],
   "source": [
    "#Xmatrix_new.shape"
   ]
  },
  {
   "cell_type": "code",
   "execution_count": 22,
   "metadata": {
    "collapsed": false
   },
   "outputs": [],
   "source": [
    "from sklearn import linear_model\n",
    "from sklearn.linear_model import LassoCV"
   ]
  },
  {
   "cell_type": "code",
   "execution_count": 23,
   "metadata": {
    "collapsed": false
   },
   "outputs": [],
   "source": [
    "#regModel = linear_model.LinearRegression()             "
   ]
  },
  {
   "cell_type": "code",
   "execution_count": 24,
   "metadata": {
    "collapsed": false
   },
   "outputs": [],
   "source": [
    "#regModel.fit(Xmatrix_new, Yresp_train)"
   ]
  },
  {
   "cell_type": "code",
   "execution_count": 25,
   "metadata": {
    "collapsed": false
   },
   "outputs": [],
   "source": [
    "#trying a cross-validated approach\n",
    "\n",
    "pca = PCA()\n",
    "X_reduced = pca.fit_transform(Xmatrix_train)"
   ]
  },
  {
   "cell_type": "code",
   "execution_count": 26,
   "metadata": {
    "collapsed": false
   },
   "outputs": [
    {
     "name": "stdout",
     "output_type": "stream",
     "text": [
      "95% of variance explained in:  63  components\n"
     ]
    }
   ],
   "source": [
    "sums = np.cumsum(pca.explained_variance_ratio_)*100\n",
    "x = 0\n",
    "k = 0\n",
    "while (k<95):\n",
    "    k = sums[x]\n",
    "    x+=1\n",
    "print \"95% of variance explained in: \", x, \" components\""
   ]
  },
  {
   "cell_type": "code",
   "execution_count": 27,
   "metadata": {
    "collapsed": false
   },
   "outputs": [],
   "source": [
    "#Defining our cross-validation: 5 folds\n",
    "from sklearn import cross_validation\n",
    "n = len(X_reduced)\n",
    "kf_5 = cross_validation.KFold(n, n_folds=5)\n",
    "regr = linear_model.LinearRegression()\n",
    "mseScore = []"
   ]
  },
  {
   "cell_type": "code",
   "execution_count": 28,
   "metadata": {
    "collapsed": false
   },
   "outputs": [],
   "source": [
    "score = -1*cross_validation.cross_val_score(regr, np.ones((n,1)), Yresp_train, cv=kf_5, scoring='mean_squared_error').mean()    \n",
    "mseScore.append(score) "
   ]
  },
  {
   "cell_type": "code",
   "execution_count": 29,
   "metadata": {
    "collapsed": false
   },
   "outputs": [
    {
     "name": "stdout",
     "output_type": "stream",
     "text": [
      "CPU times: user 1min 49s, sys: 1.51 s, total: 1min 50s\n",
      "Wall time: 1min 45s\n"
     ]
    }
   ],
   "source": [
    "%%time\n",
    "from sklearn.cross_validation import cross_val_score\n",
    "ncomponents = [35, 70, 140, 280, 560, 1020, 2000]\n",
    "\n",
    "for i in ncomponents:\n",
    "    score = -1*cross_validation.cross_val_score(regr, X_reduced[:,:i], Yresp_train, cv=kf_5, scoring='mean_squared_error').mean()\n",
    "    mseScore.append(score)"
   ]
  },
  {
   "cell_type": "code",
   "execution_count": 30,
   "metadata": {
    "collapsed": false
   },
   "outputs": [
    {
     "name": "stdout",
     "output_type": "stream",
     "text": [
      "Highest score for: 1020 components\n"
     ]
    }
   ],
   "source": [
    "print \"Highest score for:\", ncomponents[mseScore.index(max(mseScore))-1], \"components\""
   ]
  },
  {
   "cell_type": "code",
   "execution_count": 31,
   "metadata": {
    "collapsed": false
   },
   "outputs": [],
   "source": [
    "#Train over all of the training set\n",
    "pca = PCA(n_components=1020)\n",
    "Xtrain_new = pca.fit_transform(Xmatrix_train)\n",
    "Xtest_new = pca.transform(Xmatrix_test)\n",
    "cancer_new = pca.transform(Xmatrix_cancer)"
   ]
  },
  {
   "cell_type": "code",
   "execution_count": 32,
   "metadata": {
    "collapsed": false
   },
   "outputs": [],
   "source": [
    "regr.fit(Xtrain_new, Yresp_train)\n",
    "test_predict = regr.predict(Xtest_new)\n",
    "cancer_predict = regr.predict(cancer_new)"
   ]
  },
  {
   "cell_type": "code",
   "execution_count": 33,
   "metadata": {
    "collapsed": false
   },
   "outputs": [
    {
     "name": "stdout",
     "output_type": "stream",
     "text": [
      "RMSE for prediction:  10.7867598613 years\n",
      "RMSE for prediction:  47.5073481942 years\n"
     ]
    }
   ],
   "source": [
    "print \"RMSE for prediction: \", np.sqrt(np.mean((test_predict - Yresp_test.values) ** 2)), \"years\"\n",
    "print \"RMSE for prediction: \", np.sqrt(np.mean((cancer_predict - Yresp_cancer.values) ** 2)), \"years\""
   ]
  },
  {
   "cell_type": "code",
   "execution_count": 34,
   "metadata": {
    "collapsed": false
   },
   "outputs": [
    {
     "data": {
      "text/plain": [
       "(-10, 80)"
      ]
     },
     "execution_count": 34,
     "metadata": {},
     "output_type": "execute_result"
    },
    {
     "name": "stderr",
     "output_type": "stream",
     "text": [
      "/Users/triptik/anaconda/lib/python2.7/site-packages/matplotlib/collections.py:590: FutureWarning: elementwise comparison failed; returning scalar instead, but in the future will perform elementwise comparison\n",
      "  if self._edgecolors == str('face'):\n"
     ]
    },
    {
     "data": {
      "image/png": "[encoded data removed]",
      "text/plain": [
       "<matplotlib.figure.Figure at 0x10e2b1650>"
      ]
     },
     "metadata": {},
     "output_type": "display_data"
    }
   ],
   "source": [
    "plt.scatter(Yresp_test.values, test_predict)\n",
    "ax = plt.gca()\n",
    "x = np.linspace(*ax.get_xlim())\n",
    "plt.plot(x,x)\n",
    "plt.xlim(0,100)\n",
    "plt.ylim(-10,80)"
   ]
  },
  {
   "cell_type": "code",
   "execution_count": 35,
   "metadata": {
    "collapsed": false
   },
   "outputs": [
    {
     "data": {
      "text/plain": [
       "(-10, 80)"
      ]
     },
     "execution_count": 35,
     "metadata": {},
     "output_type": "execute_result"
    },
    {
     "data": {
      "image/png": "[encoded data removed]",
      "text/plain": [
       "<matplotlib.figure.Figure at 0x109d0af10>"
      ]
     },
     "metadata": {},
     "output_type": "display_data"
    }
   ],
   "source": [
    "plt.scatter(Yresp_cancer.values, cancer_predict)\n",
    "ax = plt.gca()\n",
    "x = np.linspace(*ax.get_xlim())\n",
    "plt.plot(x,x)\n",
    "plt.xlim(0,100)\n",
    "plt.ylim(-10,80)"
   ]
  },
  {
   "cell_type": "code",
   "execution_count": 36,
   "metadata": {
    "collapsed": false
   },
   "outputs": [
    {
     "name": "stdout",
     "output_type": "stream",
     "text": [
      "(1653, 21368)\n",
      "(1653,)\n"
     ]
    }
   ],
   "source": [
    "wholemetDFx = preprocAll[metColumns]\n",
    "wholemetDFy = pd.DataFrame(preprocAll['cancer'])\n",
    "wholemetDFx = wholemetDFx.apply(replaceNan)\n",
    "from sklearn.cross_validation import train_test_split\n",
    "itrain, itest = train_test_split(xrange(preprocAll.shape[0]), train_size=0.7)\n",
    "mask_All=np.ones(preprocAll.shape[0], dtype='int')\n",
    "mask_All[itrain]=1\n",
    "mask_All[itest]=0\n",
    "mask_All = (mask_All==1)\n",
    "mask_All.shape, mask_All.sum()\n",
    "XmatrixAll_train=wholemetDFx[mask_All]\n",
    "XmatrixAll_test=wholemetDFx[~mask_All]\n",
    "YrespAll_train=wholemetDFy[mask_All]['cancer']\n",
    "YrespAll_test=wholemetDFy[~mask_All]['cancer']\n",
    "print XmatrixAll_train.shape\n",
    "print YrespAll_train.shape\n"
   ]
  },
  {
   "cell_type": "code",
   "execution_count": 90,
   "metadata": {
    "collapsed": false
   },
   "outputs": [],
   "source": [
    "from sklearn.decomposition import PCA\n",
    "pca = PCA()\n",
    "X_All_reduced = pca.fit_transform(XmatrixAll_train)"
   ]
  },
  {
   "cell_type": "code",
   "execution_count": 38,
   "metadata": {
    "collapsed": false
   },
   "outputs": [
    {
     "name": "stdout",
     "output_type": "stream",
     "text": [
      "95% of variance explained in:  213  components\n"
     ]
    }
   ],
   "source": [
    "sums = np.cumsum(pca.explained_variance_ratio_)*100\n",
    "x = 0\n",
    "k = 0\n",
    "while (k<95):\n",
    "    k = sums[x]\n",
    "    x+=1\n",
    "print \"95% of variance explained in: \", x, \" components\""
   ]
  },
  {
   "cell_type": "code",
   "execution_count": 39,
   "metadata": {
    "collapsed": false
   },
   "outputs": [
    {
     "name": "stdout",
     "output_type": "stream",
     "text": [
      "[0.88430101620433954, 0.86862034239677732, 0.85895266868076536, 0.8668314565595534, 0.8601519729012177, 0.8776636455186303, 0.8770594159113797]\n"
     ]
    }
   ],
   "source": [
    "from sklearn.svm import LinearSVC\n",
    "from sklearn import cross_validation\n",
    "from sklearn.cross_validation import cross_val_score\n",
    "\n",
    "n_All = len(X_All_reduced)\n",
    "kf_All_5 = cross_validation.KFold(n_All, n_folds=5)\n",
    "clfsvm=LinearSVC(loss=\"hinge\")\n",
    "ncomponents = [35, 70, 140, 280, 560, 1020, 2000]\n",
    "mseScore_All = []\n",
    "\n",
    "#Took out the scoring function - results in 70 components for linear SVM. We might want to do a GridSearch-type\n",
    "#instead to \n",
    "\n",
    "for i in ncomponents:\n",
    "    score = cross_validation.cross_val_score(clfsvm, X_All_reduced[:,:i], YrespAll_train, cv=kf_All_5).mean()\n",
    "    mseScore_All.append(score)\n",
    "\n",
    "print mseScore_All\n",
    "#print \"Highest score for:\", ncomponents[mseScore_All.index(max(mseScore_All))-1], \"components\""
   ]
  },
  {
   "cell_type": "code",
   "execution_count": 40,
   "metadata": {
    "collapsed": false
   },
   "outputs": [
    {
     "name": "stderr",
     "output_type": "stream",
     "text": [
      "/Users/triptik/anaconda/lib/python2.7/site-packages/numpy/core/_methods.py:59: RuntimeWarning: Mean of empty slice.\n",
      "  warnings.warn(\"Mean of empty slice.\", RuntimeWarning)\n"
     ]
    }
   ],
   "source": [
    "pca = PCA(n_components=2000)\n",
    "XtrainAll_new = pca.fit_transform(XmatrixAll_train)\n",
    "XtestAll_new = pca.transform(XmatrixAll_test)\n",
    "\n",
    "clfsvm.fit(XtrainAll_new, YrespAll_train)\n",
    "testAll_predict = clfsvm.predict(XtestAll_new)"
   ]
  },
  {
   "cell_type": "code",
   "execution_count": 43,
   "metadata": {
    "collapsed": false
   },
   "outputs": [
    {
     "data": {
      "text/plain": [
       "(0, 1)"
      ]
     },
     "execution_count": 43,
     "metadata": {},
     "output_type": "execute_result"
    },
    {
     "data": {
      "image/png": "[encoded data removed]",
      "text/plain": [
       "<matplotlib.figure.Figure at 0x10b1f5d50>"
      ]
     },
     "metadata": {},
     "output_type": "display_data"
    }
   ],
   "source": [
    "plt.scatter(YrespAll_test.values, testAll_predict)\n",
    "ax = plt.gca()\n",
    "x = np.linspace(*ax.get_xlim())\n",
    "plt.plot(x,x)\n",
    "plt.xlim(0,1)\n",
    "plt.ylim(0,1)"
   ]
  },
  {
   "cell_type": "code",
   "execution_count": 42,
   "metadata": {
    "collapsed": false
   },
   "outputs": [
    {
     "data": {
      "text/plain": [
       "array([[539,   0],\n",
       "       [  0, 170]])"
      ]
     },
     "execution_count": 42,
     "metadata": {},
     "output_type": "execute_result"
    }
   ],
   "source": [
    "from sklearn.metrics import confusion_matrix\n",
    "confusion_matrix(YrespAll_test.values, testAll_predict)"
   ]
  },
  {
   "cell_type": "code",
   "execution_count": 48,
   "metadata": {
    "collapsed": true
   },
   "outputs": [],
   "source": [
    "\"\"\"\n",
    "Function\n",
    "--------\n",
    "cv_optimize\n",
    "\n",
    "Inputs\n",
    "------\n",
    "clf : an instance of a scikit-learn classifier\n",
    "parameters: a parameter grid dictionary thats passed to GridSearchCV (see above)\n",
    "X: a samples-features matrix in the scikit-learn style\n",
    "y: the response vectors of 1s and 0s (+ives and -ives)\n",
    "n_folds: the number of cross-validation folds (default 5)\n",
    "score_func: a score function we might want to pass (default python None)\n",
    "   \n",
    "Returns\n",
    "-------\n",
    "The best estimator from the GridSearchCV, after the GridSearchCV has been used to\n",
    "fit the model.\n",
    "     \n",
    "Notes\n",
    "-----\n",
    "see do_classify and the code below for an example of how this is used\n",
    "\"\"\"\n",
    "from sklearn.metrics import accuracy_score\n",
    "from sklearn.grid_search import GridSearchCV\n",
    "def cv_optimize(clf, parameters, xtrain, ytrain,n_folds=5,score_func=None):\n",
    "    fitmodel = GridSearchCV(clf, param_grid=parameters, cv=n_folds, scoring=score_func)\n",
    "    fitmodel.fit(xtrain,ytrain)\n",
    "    best=fitmodel.best_estimator_\n",
    "    print best\n",
    "    return best"
   ]
  },
  {
   "cell_type": "code",
   "execution_count": 121,
   "metadata": {
    "collapsed": true
   },
   "outputs": [],
   "source": [
    "def pearson_scorer(X,y):\n",
    "    rs=np.zeros(X.shape[1])\n",
    "    pvals=np.zeros(X.shape[1])\n",
    "    i=0\n",
    "    for v in X.T:\n",
    "        rs[i], pvals[i]=pearsonr(v, y)\n",
    "        i=i+1\n",
    "    return np.abs(rs), pvals    "
   ]
  },
  {
   "cell_type": "code",
   "execution_count": 116,
   "metadata": {
    "collapsed": true
   },
   "outputs": [],
   "source": [
    "from sklearn.metrics import confusion_matrix\n",
    "def do_classify(clf, parameters, indf, featurenames, targetname, target1val, mask=None, reuse_split=None, score_func=None, n_folds=5):\n",
    "    subdf=(indf[featurenames]).apply(replaceNan)\n",
    "    X=subdf.values\n",
    "    y=(indf[targetname].values==target1val)*1\n",
    "    if mask !=None:\n",
    "        print \"using mask\"\n",
    "        Xtrain, Xtest, ytrain, ytest = X[mask], X[~mask], y[mask], y[~mask]\n",
    "    if reuse_split !=None:\n",
    "        print \"using reuse split\"\n",
    "        Xtrain, Xtest, ytrain, ytest = reuse_split['Xtrain'], reuse_split['Xtest'], reuse_split['ytrain'], reuse_split['ytest']\n",
    "    if parameters:\n",
    "        clf = cv_optimize(clf, parameters, Xtrain, ytrain, n_folds=n_folds, score_func=score_func)\n",
    "    clf=clf.fit(Xtrain, ytrain)\n",
    "    training_accuracy = clf.score(Xtrain, ytrain)\n",
    "    test_accuracy = clf.score(Xtest, ytest)\n",
    "    print \"############# based on standard predict ################\"\n",
    "    print \"Accuracy on training data: %0.2f\" % (training_accuracy)\n",
    "    print \"Accuracy on test data:     %0.2f\" % (test_accuracy)\n",
    "    print confusion_matrix(ytest, clf.predict(Xtest))\n",
    "    print \"########################################################\"\n",
    "    return clf, Xtrain, ytrain, Xtest, ytest"
   ]
  },
  {
   "cell_type": "code",
   "execution_count": null,
   "metadata": {
    "collapsed": true
   },
   "outputs": [],
   "source": [
    "#svm all features\n",
    "Cs=[0.001, 0.01, 0.1, 1.0, 10.0, 100.0]\n"
   ]
  },
  {
   "cell_type": "code",
   "execution_count": 139,
   "metadata": {
    "collapsed": false
   },
   "outputs": [
    {
     "name": "stdout",
     "output_type": "stream",
     "text": [
      "using mask\n",
      "LinearSVC(C=0.001, class_weight=None, dual=True, fit_intercept=True,\n",
      "     intercept_scaling=1, loss='hinge', max_iter=1000, multi_class='ovr',\n",
      "     penalty='l2', random_state=None, tol=0.0001, verbose=0)\n",
      "############# based on standard predict ################\n",
      "Accuracy on training data: 1.00\n",
      "Accuracy on test data:     0.99\n",
      "[[539   0]\n",
      " [  5 165]]\n",
      "########################################################\n",
      "CPU times: user 3min 57s, sys: 13.6 s, total: 4min 10s\n",
      "Wall time: 4min 14s\n"
     ]
    },
    {
     "name": "stderr",
     "output_type": "stream",
     "text": [
      "/Users/triptik/anaconda/lib/python2.7/site-packages/IPython/kernel/__main__.py:6: FutureWarning: comparison to `None` will result in an elementwise object comparison in the future.\n"
     ]
    }
   ],
   "source": [
    "%%time\n",
    "clfsvm, Xtrain_new, ytrain_new, Xtest, ytest = do_classify(LinearSVC(loss=\"hinge\"), {\"C\":Cs}, preprocAll, metColumns, 'cancer',1,mask=mask_All)\n"
   ]
  },
  {
   "cell_type": "code",
   "execution_count": 140,
   "metadata": {
    "collapsed": false
   },
   "outputs": [
    {
     "data": {
      "image/png": "[encoded data removed]",
      "text/plain": [
       "<matplotlib.figure.Figure at 0x10c3930d0>"
      ]
     },
     "metadata": {},
     "output_type": "display_data"
    }
   ],
   "source": [
    "with sns.hls_palette(8, l=.3, s=.8):\n",
    "    ax=make_roc(\"svm-all-features\",clfsvm, ytest, Xtest, labe=250, proba=False, skip=50);"
   ]
  },
  {
   "cell_type": "code",
   "execution_count": 122,
   "metadata": {
    "collapsed": false
   },
   "outputs": [],
   "source": [
    "opt_results = []\n",
    "parameters = {\"svm__C\": Cs}\n",
    "selectorlinearsvm = SelectKBest(k=25,score_func=pearson_scorer)\n",
    "pipelinearsvm = Pipeline([('select', selectorlinearsvm), ('svm', LinearSVC(loss=\"hinge\"))])"
   ]
  },
  {
   "cell_type": "code",
   "execution_count": 128,
   "metadata": {
    "collapsed": false
   },
   "outputs": [
    {
     "name": "stdout",
     "output_type": "stream",
     "text": [
      "using mask\n",
      "Pipeline(steps=[('select', SelectKBest(k=25, score_func=<function pearson_scorer at 0x10e88cb18>)), ('svm', LinearSVC(C=1.0, class_weight=None, dual=True, fit_intercept=True,\n",
      "     intercept_scaling=1, loss='hinge', max_iter=1000, multi_class='ovr',\n",
      "     penalty='l2', random_state=None, tol=0.0001, verbose=0))])\n",
      "############# based on standard predict ################\n",
      "Accuracy on training data: 0.98\n",
      "Accuracy on test data:     0.99\n",
      "[[537   2]\n",
      " [  7 163]]\n",
      "########################################################\n"
     ]
    },
    {
     "name": "stderr",
     "output_type": "stream",
     "text": [
      "/Users/triptik/anaconda/lib/python2.7/site-packages/IPython/kernel/__main__.py:6: FutureWarning: comparison to `None` will result in an elementwise object comparison in the future.\n"
     ]
    }
   ],
   "source": [
    "lcols = wholemetDFx.columns\n",
    "pipelinearsvm,Xtrain, ytrain, Xtest, ytest  = do_classify(pipelinearsvm, parameters, preprocAll, metColumns, 'cancer',1,mask=mask_All)"
   ]
  },
  {
   "cell_type": "code",
   "execution_count": 137,
   "metadata": {
    "collapsed": false
   },
   "outputs": [
    {
     "data": {
      "text/plain": [
       "array(['cg00332153', 'cg03473518', 'cg04289385', 'cg04754011',\n",
       "       'cg07717632', 'cg09573795', 'cg10660256', 'cg12556134',\n",
       "       'cg13282837', 'cg14417329', 'cg15824056', 'cg16463460',\n",
       "       'cg19096475', 'cg19308222', 'cg19797376', 'cg19814116',\n",
       "       'cg20588069', 'cg21233722', 'cg21296676', 'cg21601405',\n",
       "       'cg21794225', 'cg22377389', 'cg23282559', 'cg24840099', 'cg27169020'], \n",
       "      dtype='|S10')"
      ]
     },
     "execution_count": 137,
     "metadata": {},
     "output_type": "execute_result"
    }
   ],
   "source": [
    "feature_selected_cols = np.array(metColumns)[pipelinearsvm.get_params()['select'].get_support()]\n",
    "feature_selected_cols"
   ]
  },
  {
   "cell_type": "code",
   "execution_count": 130,
   "metadata": {
    "collapsed": true
   },
   "outputs": [],
   "source": [
    "from sklearn.metrics import roc_curve, auc\n",
    "def make_roc(name, clf, ytest, xtest, ax=None, labe=5, proba=True, skip=0,fc=None):\n",
    "    initial=False\n",
    "    if not ax:\n",
    "        ax=plt.gca()\n",
    "        initial=True\n",
    "    if proba:#for stuff like logistic regression\n",
    "        fpr, tpr, thresholds=roc_curve(ytest, clf.predict_proba(xtest)[:,1])\n",
    "    else:#for stuff like SVM\n",
    "        fpr, tpr, thresholds=roc_curve(ytest, clf.decision_function(xtest))\n",
    "    roc_auc = auc(fpr, tpr)\n",
    "    if skip:\n",
    "        l=fpr.shape[0]\n",
    "        ax.plot(fpr[0:l:skip], tpr[0:l:skip], '.-', alpha=0.3, label='ROC curve for %s (area = %0.2f)' % (name, roc_auc))\n",
    "    else:\n",
    "        ax.plot(fpr, tpr, '.-', alpha=0.3, label='ROC curve for %s (area = %0.2f)' % (name, roc_auc))\n",
    "    label_kwargs = {}\n",
    "    label_kwargs['bbox'] = dict(\n",
    "        boxstyle='round,pad=0.1', alpha=0.2 , fc=fc\n",
    "    )\n",
    "    \n",
    "    if labe!=None:\n",
    "        for k in xrange(0, fpr.shape[0],labe):\n",
    "            #from https://gist.github.com/podshumok/c1d1c9394335d86255b8\n",
    "            threshold = str(np.round(thresholds[k], 2))\n",
    "            ax.annotate(threshold, (fpr[k], tpr[k]), **label_kwargs)\n",
    "    if initial:\n",
    "        ax.plot([0, 1], [0, 1], 'k--')\n",
    "        ax.set_xlim([0.0, 1.0])\n",
    "        ax.set_ylim([0.0, 1.05])\n",
    "        ax.set_xlabel('False Positive Rate')\n",
    "        ax.set_ylabel('True Positive Rate')\n",
    "        ax.set_title('ROC')\n",
    "    ax.legend(loc=\"lower right\",fontsize=12)\n",
    "    return ax"
   ]
  },
  {
   "cell_type": "code",
   "execution_count": 133,
   "metadata": {
    "collapsed": false
   },
   "outputs": [
    {
     "data": {
      "image/png": "[encoded data removed]",
      "text/plain": [
       "<matplotlib.figure.Figure at 0x10c8600d0>"
      ]
     },
     "metadata": {},
     "output_type": "display_data"
    }
   ],
   "source": [
    "with sns.hls_palette(8, l=.3, s=.8):\n",
    "    ax=make_roc(\"svm-feature-selected\",pipelinearsvm, ytest, Xtest, labe=250, proba=False, skip=50);"
   ]
  },
  {
   "cell_type": "code",
   "execution_count": null,
   "metadata": {
    "collapsed": true
   },
   "outputs": [],
   "source": []
  }
 ],
 "metadata": {
  "kernelspec": {
   "display_name": "Python 2",
   "language": "python",
   "name": "python2"
  },
  "language_info": {
   "codemirror_mode": {
    "name": "ipython",
    "version": 2
   },
   "file_extension": ".py",
   "mimetype": "text/x-python",
   "name": "python",
   "nbconvert_exporter": "python",
   "pygments_lexer": "ipython2",
   "version": "2.7.10"
  }
 },
 "nbformat": 4,
 "nbformat_minor": 0
}
